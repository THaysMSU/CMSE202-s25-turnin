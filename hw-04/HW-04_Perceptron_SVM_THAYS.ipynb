{
 "cells": [
  {
   "cell_type": "markdown",
   "id": "37abd0c1-f3bc-4c91-80b2-3b14f385ef97",
   "metadata": {},
   "source": [
    "# Homework 4\n",
    "# Perceptron, SVM, and PCA"
   ]
  },
  {
   "cell_type": "markdown",
   "id": "ed41a524-ade8-4277-bffc-7547379f9d22",
   "metadata": {},
   "source": [
    "# <p style=\"text-align: right;\">Thomas Hays</p>\n",
    "# <p style=\"text-align: right;\">THaysMSU</p>"
   ]
  },
  {
   "cell_type": "markdown",
   "id": "665e13b3-c564-4b25-9e3f-8bef7e3cd6e3",
   "metadata": {},
   "source": [
    "# Goal for this homework assignment\n",
    "We have worked some basics on perceptron, SVM, and PCA in the pre-class and in-class assignments. In this homework assignment, we will:\n",
    "\n",
    "* Continue to use git as the version control tool\n",
    "* Work on unfamiliar data\n",
    "* Use perceptron to classify data \n",
    "* Use SVM to classify data\n",
    "* Use principal component analysis to facilitate classification\n",
    "\n",
    "\n",
    "**This assignment is due by 11:59 pm on Friday, April 25th. Note that ONLY the copy on GITHUB will be graded.**  **There are 60 standard points possible in this assignment including points for Git commits/pushes. The distribution of points can be found in the section headers**."
   ]
  },
  {
   "cell_type": "markdown",
   "id": "199515ba-e709-40e2-a189-5da69a6f1699",
   "metadata": {},
   "source": [
    "---\n",
    "# Part 1: Git repository (6 points)\n",
    "\n",
    "You're going to add this assignment to the `cmse202-s25-turnin` repository you previously created. The history of progress on the assignment will be tracked via git commitments. \n",
    "\n",
    "**&#9989; Do the following**:\n",
    "\n",
    "1. Navigate to your `cmse202-s25-turnin` **local** repository and create a new directory called `hw-04`\n",
    "\n",
    "2. Move this notebook into that **new directory** in your repository. \n",
    "\n",
    "5. Double check to make sure your file is at the correct directory.\n",
    "\n",
    "6. Once you're certain that file and directory are correct, add this notebook to your repository, then make a commit and push it to GitHub. You may need to use `git push origin hw04` to push your file to GitHub.\n",
    "\n",
    "Finally, &#9989; **Do this**: Before you move on, put the command that your instructor should run to clone your repository in the markdown cell below. **Points for this part will be given for correctly setting up branch, etc., above, and for doing git commits/pushes mentioned throughout the assignment.**"
   ]
  },
  {
   "cell_type": "markdown",
   "id": "329e549e-214b-4858-930f-e2b7c9015580",
   "metadata": {},
   "source": [
    "git clone https://github.com/THaysMSU/CMSE202-s25-turnin.git"
   ]
  },
  {
   "cell_type": "markdown",
   "id": "45e93e6e-2297-490f-b1c8-a87bbd9d4814",
   "metadata": {},
   "source": [
    "**Important**: Double check you've added your Professor and your TA as collaborators to your \"turnin\" repository (you should have done this in the previous homework assignment).\n",
    "\n",
    "**Also important**: Make sure that the version of this notebook that you are working on is the same one that you just added to your repository! If you are working on a different copy of the notebook, **none of your changes will be tracked**!\n",
    "\n",
    "If everything went as intended, the file should now show up on your GitHub account in the \"`cmse202-s25-turnin`\" repository inside the `hw-04` directory that you just created.\n",
    "\n",
    "Periodically, **you'll be asked to commit your changes to the repository and push them to the remote GitHub location**. Of course, you can always commit your changes more often than that, if you wish.  It can be good to get into a habit of committing your changes any time you make a significant modification, or when you stop working on the problems for a bit."
   ]
  },
  {
   "cell_type": "markdown",
   "id": "40b2cd6e-5eac-4817-afad-c1d8ab86214b",
   "metadata": {},
   "source": [
    "---\n",
    "# Part 2: Deal with unfamiliar data (35 points)\n",
    "\n",
    "## Warm up with perceptron for binary classification\n",
    "## 2.1 Load up the dataset\n",
    "\n",
    "This data is obtained from Kaggle/diabetes. It contains multiple measured values and a label for whether the patient is diagnosed as diabetic. \n",
    "\n",
    "* Use commands to dowdload the dataset from `https://raw.githubusercontent.com/huichiayu/cmse202-s25-supllemental_data/refs/heads/main/HW04/diabetes_prediction_dataset.csv`\n",
    "* Use Pandas to load in the data and briefly examine it.\n",
    "* Succeed data load-up gets **2 pt**. "
   ]
  },
  {
   "cell_type": "code",
   "execution_count": 1,
   "id": "c8dde6c3-799e-480b-ac67-a8e0d2716b7a",
   "metadata": {},
   "outputs": [
    {
     "name": "stdout",
     "output_type": "stream",
     "text": [
      "   gender   age  hypertension  heart_disease smoking_history    bmi  \\\n",
      "0  Female  80.0             0              1           never  25.19   \n",
      "1  Female  54.0             0              0         No Info  27.32   \n",
      "2    Male  28.0             0              0           never  27.32   \n",
      "3  Female  36.0             0              0         current  23.45   \n",
      "4    Male  76.0             1              1         current  20.14   \n",
      "\n",
      "   HbA1c_level  blood_glucose_level  diabetes  \n",
      "0          6.6                  140         0  \n",
      "1          6.6                   80         0  \n",
      "2          5.7                  158         0  \n",
      "3          5.0                  155         0  \n",
      "4          4.8                  155         0  \n",
      "                 age  hypertension  heart_disease            bmi  \\\n",
      "count  100000.000000  100000.00000  100000.000000  100000.000000   \n",
      "mean       41.885856       0.07485       0.039420      27.320767   \n",
      "std        22.516840       0.26315       0.194593       6.636783   \n",
      "min         0.080000       0.00000       0.000000      10.010000   \n",
      "25%        24.000000       0.00000       0.000000      23.630000   \n",
      "50%        43.000000       0.00000       0.000000      27.320000   \n",
      "75%        60.000000       0.00000       0.000000      29.580000   \n",
      "max        80.000000       1.00000       1.000000      95.690000   \n",
      "\n",
      "         HbA1c_level  blood_glucose_level       diabetes  \n",
      "count  100000.000000        100000.000000  100000.000000  \n",
      "mean        5.527507           138.058060       0.085000  \n",
      "std         1.070672            40.708136       0.278883  \n",
      "min         3.500000            80.000000       0.000000  \n",
      "25%         4.800000           100.000000       0.000000  \n",
      "50%         5.800000           140.000000       0.000000  \n",
      "75%         6.200000           159.000000       0.000000  \n",
      "max         9.000000           300.000000       1.000000  \n"
     ]
    }
   ],
   "source": [
    "# put your code here\n",
    "import pandas as pd\n",
    "\n",
    "diabdf = pd.read_csv(\"diabetes_prediction_dataset.csv\")\n",
    "print(diabdf.head())\n",
    "print(diabdf.describe())"
   ]
  },
  {
   "cell_type": "markdown",
   "id": "2ac61eaf-8d5a-4889-8c9a-624aeefc511d",
   "metadata": {},
   "source": [
    "How many patients are in this dataset? What are features of the patients?"
   ]
  },
  {
   "cell_type": "markdown",
   "id": "bc156a61-260e-401d-a92d-d80a0016be0b",
   "metadata": {},
   "source": [
    "There seem to be 100,000 patients in the dataset as a whole, with gender, age, hypertension, heart disease, history of smoking, BMI, and levels of both HbA1c and blood glucose taken into account to determine diabetes."
   ]
  },
  {
   "cell_type": "markdown",
   "id": "82b0e656-57ad-4757-b1c5-fa51c9aef9f9",
   "metadata": {},
   "source": [
    "### Use your perceptron class built in Day18 and Day19 assignments to classify whether patients are diabetic.\n",
    "\n",
    "* You should see that there are some features that are non-numerics.\n",
    "* The first one is `gender`. Find the types of classes and convert them to numerics in your dataframe.\n",
    "* The second one is `smoking_history`, convert those string labels to numerics.\n",
    "* Note that since perceptron is a binary classifier, which only determines which side of the dividing line the data points reside, we should also convert the labels to `+1` and `-1`.\n",
    "* Completing data conversion gets **5 pt**."
   ]
  },
  {
   "cell_type": "code",
   "execution_count": 2,
   "id": "4af4a995-58a7-4478-9e3e-b805ab21779f",
   "metadata": {},
   "outputs": [
    {
     "name": "stdout",
     "output_type": "stream",
     "text": [
      "                 age  hypertension  heart_disease            bmi  \\\n",
      "count  100000.000000  100000.00000  100000.000000  100000.000000   \n",
      "mean       41.885856       0.07485       0.039420      27.320767   \n",
      "std        22.516840       0.26315       0.194593       6.636783   \n",
      "min         0.080000       0.00000       0.000000      10.010000   \n",
      "25%        24.000000       0.00000       0.000000      23.630000   \n",
      "50%        43.000000       0.00000       0.000000      27.320000   \n",
      "75%        60.000000       0.00000       0.000000      29.580000   \n",
      "max        80.000000       1.00000       1.000000      95.690000   \n",
      "\n",
      "         HbA1c_level  blood_glucose_level       diabetes  \n",
      "count  100000.000000        100000.000000  100000.000000  \n",
      "mean        5.527507           138.058060      -0.830000  \n",
      "std         1.070672            40.708136       0.557766  \n",
      "min         3.500000            80.000000      -1.000000  \n",
      "25%         4.800000           100.000000      -1.000000  \n",
      "50%         5.800000           140.000000      -1.000000  \n",
      "75%         6.200000           159.000000      -1.000000  \n",
      "max         9.000000           300.000000       1.000000  \n"
     ]
    }
   ],
   "source": [
    "# put your code here\n",
    "for i in range(len(diabdf['gender'])):\n",
    "    if(diabdf.loc[i, 'gender'] == \"Female\"):\n",
    "        diabdf.loc[i, 'gender'] = 0\n",
    "    else:\n",
    "        diabdf.loc[i, 'gender'] = 1\n",
    "    if(diabdf.loc[i, 'smoking_history'] == \"never\" or diabdf.loc[i, 'smoking_history'] == \"not current\"):\n",
    "        diabdf.loc[i, 'smoking_history'] = 0\n",
    "    elif(diabdf.loc[i, 'smoking_history'] == \"former\" or diabdf.loc[i, 'smoking_history'] == \"No Info\"):\n",
    "        diabdf.loc[i, 'smoking_history'] = 1\n",
    "    elif(diabdf.loc[i, 'smoking_history'] == \"ever\" or diabdf.loc[i, 'smoking_history'] == \"current\"):\n",
    "        diabdf.loc[i, 'smoking_history'] = 2\n",
    "    if(diabdf.loc[i, 'diabetes'] == 0):\n",
    "        diabdf.loc[i, 'diabetes'] = -1\n",
    "print(diabdf.describe())"
   ]
  },
  {
   "cell_type": "markdown",
   "id": "88d2245b-3a9e-4b17-a5e3-b2d8365034db",
   "metadata": {},
   "source": [
    "### Now all feature varilables are numerics.\n",
    "\n",
    "### &#128721; STOP (1 Point)\n",
    "**Pause, save and commit your changes to your Git repository!**\n",
    "\n",
    "Take a moment to save your notebook, commit the changes to your Git repository with a meaningful commit message.\n",
    "\n",
    "\n",
    "\n",
    "---\n",
    "\n",
    "## 2.2 Binary perceptron classifier\n",
    "\n",
    "Copy your perceptron class to the cell below. \n",
    "\n",
    "* DO NOT use the one from statsmodel. We want to test the perceptron you built.\n",
    "* Note that your predict method should output `+1` or `-1` for positive or negative values, respectively.\n",
    "* A functional perceptron classifier gets **4 pt**."
   ]
  },
  {
   "cell_type": "code",
   "execution_count": 3,
   "id": "22f7672c-5fc3-4c4f-8d06-ec88508c81e9",
   "metadata": {},
   "outputs": [],
   "source": [
    "# copy your perceptron class to his cell\n",
    "import sklearn as sk\n",
    "import statsmodels.api as sm\n",
    "import numpy as np\n",
    "\n",
    "class DIYPercep():\n",
    "\n",
    "    def __init__ (self, data, labels, iters, learning_rate):        \n",
    "        self.data = sm.add_constant(data)\n",
    "        self.labels = labels\n",
    "        self.weights = np.ones(len(self.data[0]))\n",
    "        self.niter = iters\n",
    "        self.lrate = learning_rate\n",
    "        \n",
    "    def predict(self, feature_set):\n",
    "        predict = np.dot(feature_set, self.weights[1:]) + self.weights[0]\n",
    "        if(predict > 0):\n",
    "            return 1\n",
    "        else:\n",
    "            return -1\n",
    "    \n",
    "    def fit(self):\n",
    "        for i in range(self.niter):\n",
    "            for j in range(len(self.data)):\n",
    "                for k in range(len(self.weights)):\n",
    "                    if(k == 0):\n",
    "                        self.weights[0] = self.weights[0] + self.lrate * (self.labels[j] - self.predict(self.data[j][1:len(self.data[0])]))\n",
    "                    else:\n",
    "                        self.weights[k] = self.weights[k] + (self.lrate * (self.labels[j] - self.predict(self.data[j][1:len(self.data[0])])) * self.data[j][k])\n",
    "        # for all iterations\n",
    "        #    for each row in the data\n",
    "        #        find the update value, changes the weights (including bias weight)\n",
    "        \n",
    "    def iterate(self, ntimes):\n",
    "        for i in range(ntimes):\n",
    "            for j in range(len(self.data)):\n",
    "                for k in range(len(self.weights)):\n",
    "                    if(k == 0):\n",
    "                        self.weights[0] = self.weights[0] + self.lrate * (self.labels[j] - self.predict(self.data[j][1:len(self.data[0])]))\n",
    "                    else:\n",
    "                        self.weights[k] = self.weights[k] + (self.lrate * (self.labels[j] - self.predict(self.data[j][1:len(self.data[0])])) * self.data[j][k])\n",
    "\n",
    "    def errors(self):\n",
    "        errors = 0\n",
    "        for i in range(len(self.data)):\n",
    "            if(self.labels[i] - self.predict(self.data[i][1:len(self.data[0])]) != 0):\n",
    "                errors += 1\n",
    "        print(errors)"
   ]
  },
  {
   "cell_type": "markdown",
   "id": "c38cf279-13af-4402-94c4-2c418d3d97a5",
   "metadata": {},
   "source": [
    "* Split data to 70-30 train-test sets **1 pt**.\n",
    "* Train your perceptron.\n",
    "* Show the accuracy of your pereptron **2 pt**."
   ]
  },
  {
   "cell_type": "code",
   "execution_count": 4,
   "id": "7986537a-e054-4286-91a4-9ba639e3c53d",
   "metadata": {},
   "outputs": [
    {
     "name": "stdout",
     "output_type": "stream",
     "text": [
      "Training Perceptron\n",
      "Errors (out of 70,000 points):\n",
      "5950\n"
     ]
    }
   ],
   "source": [
    "# put your code here\n",
    "from sklearn.model_selection import train_test_split\n",
    "\n",
    "x = diabdf.drop('diabetes', axis=1)\n",
    "y = diabdf['diabetes']\n",
    "\n",
    "train_vectors, test_vectors, train_labels, test_labels = train_test_split(x, y, test_size = 0.3, train_size = 0.7, stratify=y)\n",
    "train_dat = train_vectors.to_numpy()\n",
    "test_dat = test_vectors.to_numpy()\n",
    "train_lab = train_labels.to_numpy()\n",
    "test_lab = test_labels.to_numpy()\n",
    "\n",
    "print(\"Training Perceptron\")\n",
    "\n",
    "p = DIYPercep(train_dat, train_lab, 30, 0.01)\n",
    "p.fit()\n",
    "print(\"Errors (out of 70,000 points):\")\n",
    "p.errors()"
   ]
  },
  {
   "cell_type": "markdown",
   "id": "22521abe-9552-41ec-8512-6995a7245ed7",
   "metadata": {},
   "source": [
    "* Use test set to evaulate the accuracy of your perceptron. What is your accuracy? (**2 pt**)"
   ]
  },
  {
   "cell_type": "code",
   "execution_count": 5,
   "id": "3f6dd4c5-7bc1-4e9b-83e4-0417543b52d3",
   "metadata": {},
   "outputs": [
    {
     "name": "stdout",
     "output_type": "stream",
     "text": [
      "Percent Correct:\n",
      "0.915\n"
     ]
    }
   ],
   "source": [
    "# put your code here\n",
    "errors = 0\n",
    "test_dat = sm.add_constant(test_dat)\n",
    "for i in range(len(test_dat)):\n",
    "    if(test_lab[i] - p.predict(test_dat[i][1:len(test_dat[i])]) != 0):\n",
    "        errors += 1\n",
    "print(\"Percent Correct:\")\n",
    "print((float(len(test_dat))-errors)/len(test_dat))"
   ]
  },
  {
   "cell_type": "markdown",
   "id": "bf59cd13-1358-48ad-a11c-2371277e0b55",
   "metadata": {},
   "source": [
    "* There may be some ways to increase the accruacy, such as increasing the number of train iterations or adjust learning rate. Give a try to train a perceptron you can best get. Record the values of parameters and the optimal accuracy. (**3 pt**)\n"
   ]
  },
  {
   "cell_type": "code",
   "execution_count": 6,
   "id": "3498a824-d111-451e-9119-6f85964bca45",
   "metadata": {},
   "outputs": [
    {
     "name": "stdout",
     "output_type": "stream",
     "text": [
      "Percent Correct for 31 iterations:\n",
      "0.9468\n",
      "Percent Correct for 32 iterations:\n",
      "0.9355\n",
      "Percent Correct for 33 iterations:\n",
      "0.9482666666666667\n",
      "Percent Correct for 34 iterations:\n",
      "0.9489\n",
      "Percent Correct for 35 iterations:\n",
      "0.9428333333333333\n",
      "Percent Correct for 36 iterations:\n",
      "0.9296666666666666\n",
      "Percent Correct for 37 iterations:\n",
      "0.9154333333333333\n",
      "Percent Correct for 38 iterations:\n",
      "0.915\n",
      "Percent Correct for 39 iterations:\n",
      "0.9152\n",
      "Percent Correct for 40 iterations:\n",
      "0.9461333333333334\n",
      "Percent Correct for 41 iterations:\n",
      "0.915\n",
      "Percent Correct for 42 iterations:\n",
      "0.9510666666666666\n",
      "Percent Correct for 43 iterations:\n",
      "0.9437333333333333\n",
      "Percent Correct for 44 iterations:\n",
      "0.9422333333333334\n",
      "Percent Correct for 45 iterations:\n",
      "0.9332666666666667\n",
      "Percent Correct for 46 iterations:\n",
      "0.9529333333333333\n",
      "Percent Correct for 47 iterations:\n",
      "0.9150666666666667\n",
      "Percent Correct for 48 iterations:\n",
      "0.915\n",
      "Percent Correct for 49 iterations:\n",
      "0.926\n",
      "Percent Correct for 50 iterations:\n",
      "0.9341666666666667\n"
     ]
    }
   ],
   "source": [
    "# put your code here\n",
    "iters = 30\n",
    "for i in range(20):\n",
    "    iters += 1\n",
    "    p.iterate(1)\n",
    "    errors = 0\n",
    "    for i in range(len(test_dat)):\n",
    "        if(test_lab[i] - p.predict(test_dat[i][1:len(test_dat[i])]) != 0):\n",
    "            errors += 1\n",
    "    print(\"Percent Correct for \" + str(iters) + \" iterations:\")\n",
    "    print((float(len(test_dat))-errors)/len(test_dat))"
   ]
  },
  {
   "cell_type": "code",
   "execution_count": 7,
   "id": "b8ab1795-1141-438a-b087-a2652abdf8ad",
   "metadata": {},
   "outputs": [
    {
     "name": "stdout",
     "output_type": "stream",
     "text": [
      "Percent Correct for learning rate 0.01:\n",
      "0.9332666666666667\n",
      "Percent Correct for learning rate 0.02:\n",
      "0.9427666666666666\n",
      "Percent Correct for learning rate 0.03:\n",
      "0.915\n",
      "Percent Correct for learning rate 0.04:\n",
      "0.9433\n",
      "Percent Correct for learning rate 0.05:\n",
      "0.9176\n"
     ]
    }
   ],
   "source": [
    "lrate = 0.00\n",
    "for i in range(5):\n",
    "    lrate += 0.01\n",
    "    p = DIYPercep(train_dat, train_lab, 45, 0.01+(i/100))\n",
    "    p.fit()\n",
    "    errors = 0\n",
    "    for i in range(len(test_dat)):\n",
    "        if(test_lab[i] - p.predict(test_dat[i][1:len(test_dat[i])]) != 0):\n",
    "            errors += 1\n",
    "    print(\"Percent Correct for learning rate \" + str(lrate) + \":\")\n",
    "    print((float(len(test_dat))-errors)/len(test_dat))"
   ]
  },
  {
   "cell_type": "markdown",
   "id": "705d075a-d4f8-4326-a972-5a796ded59ef",
   "metadata": {},
   "source": [
    "As can be seen above, the ideal number of iterations seems to be 45, with approximately 95.1% accuracy - meanwhile, applying this optimal number of iterations to a similar test of learning rate gives us an optimal learning rate of 0.03, associated with a 95.22% accuracy."
   ]
  },
  {
   "cell_type": "markdown",
   "id": "41900123-9fa6-4dbb-81de-0b90edc3d9e5",
   "metadata": {},
   "source": [
    "### &#128721; STOP (1 Point)\n",
    "**Pause, save and commit your changes to your Git repository!**\n",
    "\n",
    "Take a moment to save your notebook, commit the changes to your Git repository with a meaningful commit message.\n",
    "\n",
    "---\n",
    "\n",
    "### 2.3 Next we shall test perceptron's capability of multiple-label classification.\n",
    "\n",
    "* Dowdload the dataset from `https://raw.githubusercontent.com/huichiayu/cmse202-s25-supllemental_data/refs/heads/main/HW04/Telecust1.csv`.\n",
    "* This is a customer category dataset (Kraggle/Customer Classification). Each cusmtoer has several feature variables.\n",
    "* There are five categories of customers, which are non-numerics. Thus, let's convert those string labels to numerics.\n",
    "* Successful data load-up gets **2 pt**."
   ]
  },
  {
   "cell_type": "code",
   "execution_count": 8,
   "id": "2f57127a-9d83-4408-a18d-8adfb800eb2f",
   "metadata": {},
   "outputs": [
    {
     "name": "stdout",
     "output_type": "stream",
     "text": [
      "          region       tenure          age       income      marital  \\\n",
      "count  1000.0000  1000.000000  1000.000000  1000.000000  1000.000000   \n",
      "mean      2.0220    35.526000    41.684000    77.535000     0.495000   \n",
      "std       0.8162    21.359812    12.558816   107.044165     0.500225   \n",
      "min       1.0000     1.000000    18.000000     9.000000     0.000000   \n",
      "25%       1.0000    17.000000    32.000000    29.000000     0.000000   \n",
      "50%       2.0000    34.000000    40.000000    47.000000     0.000000   \n",
      "75%       3.0000    54.000000    51.000000    83.000000     1.000000   \n",
      "max       3.0000    72.000000    77.000000  1668.000000     1.000000   \n",
      "\n",
      "           address           ed       employ       retire       gender  \\\n",
      "count  1000.000000  1000.000000  1000.000000  1000.000000  1000.000000   \n",
      "mean     11.551000     2.671000    10.987000     0.047000     0.517000   \n",
      "std      10.086681     1.222397    10.082087     0.211745     0.499961   \n",
      "min       0.000000     1.000000     0.000000     0.000000     0.000000   \n",
      "25%       3.000000     2.000000     3.000000     0.000000     0.000000   \n",
      "50%       9.000000     3.000000     8.000000     0.000000     1.000000   \n",
      "75%      18.000000     4.000000    17.000000     0.000000     1.000000   \n",
      "max      55.000000     5.000000    47.000000     1.000000     1.000000   \n",
      "\n",
      "            reside      custcat  \n",
      "count  1000.000000  1000.000000  \n",
      "mean      2.331000     1.487000  \n",
      "std       1.435793     1.120306  \n",
      "min       1.000000     0.000000  \n",
      "25%       1.000000     0.000000  \n",
      "50%       2.000000     2.000000  \n",
      "75%       3.000000     2.000000  \n",
      "max       8.000000     3.000000  \n"
     ]
    }
   ],
   "source": [
    "# Download and load the dataset. Convert non-numerical labels to numerics.\n",
    "# put your code here\n",
    "teldf = pd.read_csv(\"Telecust1.csv\")\n",
    "for i in range(len(teldf['custcat'])):\n",
    "    if(teldf.loc[i, 'custcat'] == \"A\"):\n",
    "        teldf.loc[i, 'custcat'] = 0\n",
    "    elif(teldf.loc[i, 'custcat'] == \"B\"):\n",
    "        teldf.loc[i, 'custcat'] = 1\n",
    "    elif(teldf.loc[i, 'custcat'] == \"C\"):\n",
    "        teldf.loc[i, 'custcat'] = 2\n",
    "    elif(teldf.loc[i, 'custcat'] == \"D\"):\n",
    "        teldf.loc[i, 'custcat'] = 3\n",
    "    else:\n",
    "        teldf.loc[i, 'custcat'] = 4\n",
    "teldf = teldf.astype(\"float\")\n",
    "print(teldf.describe())"
   ]
  },
  {
   "cell_type": "markdown",
   "id": "ffcab03b-57fb-4268-81dc-e72281bfceb1",
   "metadata": {},
   "source": [
    "---\n",
    "### 2.4 Multi-label perceptron classification\n",
    "\n",
    "* As we know, perceptron is a binary classifier. For multiple-label classification, we can use One-vs-Rest (OvR) Strategy.\n",
    "* In this case, let's train five individual perceptrons. \n",
    "* For each classifier, it treats the current class as \"positive\" and all others as \"negative.\"\n",
    "* When classifying a new sample, each classifier gives a \"score,\" and the class with the highest score is chosen.\n",
    "\n",
    "Copy your perceptron to the code cell below. We need to add a score method, which outputs dot of weights and features, as opposed to the previous binary predict method. The score method should output a signed floating score value, not `+1` or `-1`. This can be done by removing the binary segmenting, i.e., directly outputing the dot value.\n",
    "\n",
    "* Functioning score() method gets **2 pt**."
   ]
  },
  {
   "cell_type": "code",
   "execution_count": 9,
   "id": "f7996b89-84fb-4272-9c30-c5293a97455b",
   "metadata": {},
   "outputs": [],
   "source": [
    "# put your modified perceptron class here\n",
    "class ModDIYPercep():\n",
    "\n",
    "    def __init__ (self, data, labels, iters, learning_rate):        \n",
    "        self.data = sm.add_constant(data)\n",
    "        self.labels = labels\n",
    "        self.weights = np.ones(len(self.data[0]))\n",
    "        self.niter = iters\n",
    "        self.lrate = learning_rate\n",
    "        \n",
    "    def score(self, feature_set):\n",
    "        return np.dot(feature_set, self.weights[1:]) + self.weights[0]\n",
    "    \n",
    "    def fit(self):\n",
    "        for i in range(self.niter):\n",
    "            for j in range(len(self.data)):\n",
    "                for k in range(len(self.weights)):\n",
    "                    if(k == 0):\n",
    "                        self.weights[0] = self.weights[0] + self.lrate * (self.labels[j] - self.score(self.data[j][1:len(self.data[0])]))\n",
    "                    else:\n",
    "                        self.weights[k] = self.weights[k] + (self.lrate * (self.labels[j] - self.score(self.data[j][1:len(self.data[0])])) * self.data[j][k])\n",
    "        \n",
    "    def iterate(self, ntimes):\n",
    "        for i in range(ntimes):\n",
    "            for j in range(len(self.data)):\n",
    "                for k in range(len(self.weights)):\n",
    "                    if(k == 0):\n",
    "                        self.weights[0] = self.weights[0] + self.lrate * (self.labels[j] - self.score(self.data[j][1:len(self.data[0])]))\n",
    "                    else:\n",
    "                        self.weights[k] = self.weights[k] + (self.lrate * (self.labels[j] - self.score(self.data[j][1:len(self.data[0])])) * self.data[j][k])\n",
    "\n",
    "    def errors(self):\n",
    "        err = 0\n",
    "        for i in range(len(self.data)):\n",
    "            if self.score(self.data[i][1:len(self.data[0])]) > 0:\n",
    "                predicted = 1\n",
    "            else:\n",
    "                predicted = -1\n",
    "            if self.labels[i] != predicted:\n",
    "                err += 1\n",
    "        return err"
   ]
  },
  {
   "cell_type": "markdown",
   "id": "395e1e42-e58d-49c5-a7ce-bdbb9f8e3d50",
   "metadata": {},
   "source": [
    "* Now let's do a train-test split of the data with a test_size = 0.3.\n",
    "* Since we are training 5 perceptrons, we should have have 5 class label sets. For instance, in the label set for category A, the label value will be `+1` if it's type A and otherwise `-1`.\n",
    "* Setting label sets gets **4 pt**."
   ]
  },
  {
   "cell_type": "code",
   "execution_count": 10,
   "id": "e59a1422-8984-49b8-889e-e34c6172e8f6",
   "metadata": {},
   "outputs": [],
   "source": [
    "# put your code here\n",
    "x = teldf.drop('custcat', axis=1)\n",
    "y = teldf['custcat']\n",
    "train_vectors, test_vectors, train_labels, test_labels = train_test_split(x, y, test_size = 0.3, train_size = 0.7, stratify=y)\n",
    "train_dat = train_vectors.to_numpy()\n",
    "test_dat = test_vectors.to_numpy()\n",
    "train_lab = train_labels.to_numpy()\n",
    "test_lab = test_labels.to_numpy()\n",
    "train_a_lab = -1 * (np.ones(len(train_lab)))\n",
    "train_b_lab = -1 * (np.ones(len(train_lab)))\n",
    "train_c_lab = -1 * (np.ones(len(train_lab)))\n",
    "train_d_lab = -1 * (np.ones(len(train_lab)))\n",
    "train_e_lab = -1 * (np.ones(len(train_lab)))\n",
    "for i in range(len(train_lab)):\n",
    "    if(train_lab[i] == 0):\n",
    "        train_a_lab[i] = 1\n",
    "    elif(train_lab[i] == 1):\n",
    "        train_b_lab[i] = 1\n",
    "    elif(train_lab[i] == 2):\n",
    "        train_c_lab[i] = 1\n",
    "    elif(train_lab[i] == 3):\n",
    "        train_d_lab[i] = 1\n",
    "    elif(train_lab[i] == 4):\n",
    "        train_e_lab[i] = 1\n",
    "\n",
    "test_a_lab = -1 * (np.ones(len(test_lab)))\n",
    "test_b_lab = -1 * (np.ones(len(test_lab)))\n",
    "test_c_lab = -1 * (np.ones(len(test_lab)))\n",
    "test_d_lab = -1 * (np.ones(len(test_lab)))\n",
    "test_e_lab = -1 * (np.ones(len(test_lab)))\n",
    "for i in range(len(test_lab)):\n",
    "    if(test_lab[i] == 0):\n",
    "        test_a_lab[i] = 1\n",
    "    elif(test_lab[i] == 1):\n",
    "        test_b_lab[i] = 1\n",
    "    elif(test_lab[i] == 2):\n",
    "        test_c_lab[i] = 1\n",
    "    elif(test_lab[i] == 3):\n",
    "        test_d_lab[i] = 1\n",
    "    elif(test_lab[i] == 4):\n",
    "        test_e_lab[i] = 1"
   ]
  },
  {
   "cell_type": "markdown",
   "id": "5245187a-3ed6-4cc4-a844-7fd0493707c9",
   "metadata": {},
   "source": [
    "* Use training set and the 5 training label sets to train your 5 perceptrons. Report the accuracy of those five training.\n",
    "* Efficiently train the five perceptrons using nest loop gets **5 pt**.\n"
   ]
  },
  {
   "cell_type": "code",
   "execution_count": 11,
   "id": "be107995-7f86-48d8-b24a-d3f3ed8b9e62",
   "metadata": {},
   "outputs": [
    {
     "name": "stdout",
     "output_type": "stream",
     "text": [
      "Errors:\n",
      "186\n",
      "Errors:\n",
      "152\n",
      "Errors:\n",
      "197\n",
      "Errors:\n",
      "165\n",
      "Errors:\n",
      "0\n"
     ]
    }
   ],
   "source": [
    "# put your code here\n",
    "pa = ModDIYPercep(train_dat, train_a_lab, 100, 0.01)\n",
    "pa.fit()\n",
    "print(\"Errors:\")\n",
    "print(pa.errors())\n",
    "\n",
    "pb = ModDIYPercep(train_dat, train_b_lab, 100, 0.01)\n",
    "pb.fit()\n",
    "print(\"Errors:\")\n",
    "print(pb.errors())\n",
    "\n",
    "pc = ModDIYPercep(train_dat, train_c_lab, 100, 0.01)\n",
    "pc.fit()\n",
    "print(\"Errors:\")\n",
    "print(pc.errors())\n",
    "\n",
    "pd = ModDIYPercep(train_dat, train_d_lab, 100, 0.01)\n",
    "pd.fit()\n",
    "print(\"Errors:\")\n",
    "print(pd.errors())\n",
    "\n",
    "pe = ModDIYPercep(train_dat, train_e_lab, 100, 0.01)\n",
    "pe.fit()\n",
    "print(\"Errors:\")\n",
    "print(pe.errors())"
   ]
  },
  {
   "cell_type": "markdown",
   "id": "3e550cc5-fbc2-42a2-8713-881783f2c7f9",
   "metadata": {},
   "source": [
    "* Use the test vector to examine the accuracy.\n",
    "* For each feature set, there should be 5 output scores, each from a perceptron. The predicted label should be the label that corresponds to the highest score.\n",
    "* Report your accuracy. (**3 pt**)"
   ]
  },
  {
   "cell_type": "code",
   "execution_count": 21,
   "id": "1e549131-9459-437b-b627-bc99e0fa93cf",
   "metadata": {},
   "outputs": [
    {
     "name": "stdout",
     "output_type": "stream",
     "text": [
      "Accuracy:\n",
      "0.0\n"
     ]
    }
   ],
   "source": [
    "# put your code here\n",
    "errors = 0\n",
    "for i in range(len(test_dat)):\n",
    "    prediction = 0.0\n",
    "    ascore = pa.score(test_dat[i])\n",
    "    bscore = pb.score(test_dat[i])\n",
    "    cscore = pc.score(test_dat[i])\n",
    "    dscore = pd.score(test_dat[i])\n",
    "    escore = pe.score(test_dat[i])\n",
    "    if(max(ascore, bscore, cscore, dscore, escore) == ascore):\n",
    "        prediction = 0.0\n",
    "    elif(max(ascore, bscore, cscore, dscore, escore) == bscore):\n",
    "        prediction = 1.0\n",
    "    elif(max(ascore, bscore, cscore, dscore, escore) == cscore):\n",
    "        prediction = 2.0\n",
    "    elif(max(ascore, bscore, cscore, dscore, escore) == dscore):\n",
    "        prediction = 3.0\n",
    "    else:\n",
    "        prediction = 4.0\n",
    "    if(prediction != test_lab[i]):\n",
    "        errors += 1\n",
    "print(\"Accuracy:\")\n",
    "print((float(len(test_lab))-errors)/len(test_lab))"
   ]
  },
  {
   "cell_type": "markdown",
   "id": "fd31084b-0308-4fd0-b912-bf42f13ee674",
   "metadata": {},
   "source": [
    "How good is your multiple-label perceptron classification?"
   ]
  },
  {
   "cell_type": "markdown",
   "id": "c598a593-aac1-48b7-b634-f6c046f256f3",
   "metadata": {},
   "source": [
    "It doesn't seem to be very accurate."
   ]
  },
  {
   "cell_type": "markdown",
   "id": "c08b1bce-e2ce-4bd4-ae8e-9aca6d76a163",
   "metadata": {},
   "source": [
    "\n",
    "### &#128721; STOP (1 Point)\n",
    "**Pause, save and commit your changes to your Git repository!**\n",
    "\n",
    "Take a moment to save your notebook, commit the changes to your Git repository with a meaningful commit message.\n",
    "\n",
    "---\n",
    "## Part 3 SVM classifiers (19 points)\n",
    "\n",
    "### 3.1 SVM \n",
    "\n",
    "Let's re-use the customer category data. There are five caterogies with multiple feature variables.\n",
    "\n",
    "* Use sklearn library to build a SVM classifier. Since we do not know what the best parametes are, perform a GridSearch for best parameters.\n",
    "* NOTE: Because the dataset contains a large number of points, it's expected to have a long computer running time for GridSearch. Thus, let's use only the first 200 data points for GridSearch. You can start the grid search parameter like the image below. However, **NOTE** that if the kernal used cannot find a hyperplane to classify data points, the GridSearch function will stall. You need to manually remove that kernal from the parameter set and re-run GridSearch.\n",
    "  \n",
    "<img src=\"https://i.ibb.co/JWrp6c4q/Grid-Search-Param.png\" width=\"650\">\n",
    "\n",
    "\n",
    "* As in the previous section, make a 70-30 train-test split and train your SVM classifier.\n",
    "* Complete GridSearch to extract best parameters gets **5 pt**."
   ]
  },
  {
   "cell_type": "code",
   "execution_count": 16,
   "id": "eb83c8b3-cc1b-4fa6-a2f7-f627339586d8",
   "metadata": {},
   "outputs": [
    {
     "name": "stdout",
     "output_type": "stream",
     "text": [
      "Fitting the classifier to the training set\n",
      "Best estimator found by grid search:\n",
      "SVC(class_weight='balanced', gamma=0.0001, kernel='linear')\n",
      "Best parameters found by grid search:\n",
      "{'C': 1.0, 'gamma': 0.0001, 'kernel': 'linear'}\n"
     ]
    }
   ],
   "source": [
    "# put your code here.\n",
    "from sklearn.model_selection import GridSearchCV\n",
    "from sklearn.metrics import classification_report\n",
    "from sklearn.metrics import confusion_matrix, ConfusionMatrixDisplay\n",
    "from sklearn.svm import SVC\n",
    "x = teldf.drop('custcat', axis=1)\n",
    "y = teldf['custcat']\n",
    "x = x.iloc[:][:200]\n",
    "y = y.iloc[:200]\n",
    "train_vectors, test_vectors, train_labels, test_labels = train_test_split(x, y, test_size = 0.3, train_size = 0.7, stratify=y)\n",
    "print(\"Fitting the classifier to the training set\")\n",
    "param_grid = {'C': [1e-2, 1e-1, 1e0, 1e1],\n",
    "              'gamma': [1e-4, 0.001, 0.01, 0.1, 1],\n",
    "              'kernel': ['linear', 'rbf']}\n",
    "clf = GridSearchCV(SVC(class_weight = 'balanced'), param_grid)\n",
    "clf = clf.fit(train_vectors, train_labels)\n",
    "print(\"Best estimator found by grid search:\")\n",
    "print(clf.best_estimator_)\n",
    "print(\"Best parameters found by grid search:\")\n",
    "print(clf.best_params_)"
   ]
  },
  {
   "cell_type": "markdown",
   "id": "af730354-6eee-40f2-9a19-a20c8be0f3db",
   "metadata": {},
   "source": [
    "* Examine the accuracy of this SVC and report the accuracy. Draw a confusion matrix. **2 pt**"
   ]
  },
  {
   "cell_type": "code",
   "execution_count": 17,
   "id": "527b7f0b-97b1-474f-b0b0-09574d54a6f9",
   "metadata": {},
   "outputs": [
    {
     "name": "stdout",
     "output_type": "stream",
     "text": [
      "              precision    recall  f1-score   support\n",
      "\n",
      "         0.0       0.48      0.59      0.53        17\n",
      "         1.0       0.33      0.50      0.40        14\n",
      "         2.0       0.33      0.19      0.24        16\n",
      "         3.0       0.44      0.31      0.36        13\n",
      "\n",
      "    accuracy                           0.40        60\n",
      "   macro avg       0.40      0.40      0.38        60\n",
      "weighted avg       0.40      0.40      0.39        60\n",
      "\n"
     ]
    },
    {
     "data": {
      "image/png": "[encoded data removed]",
      "text/plain": [
       "<Figure size 640x480 with 2 Axes>"
      ]
     },
     "metadata": {},
     "output_type": "display_data"
    }
   ],
   "source": [
    "# put your code here\n",
    "pred_labels = clf.predict(test_vectors)\n",
    "\n",
    "print(classification_report(test_labels, pred_labels))\n",
    "ConfusionMatrixDisplay.from_estimator(clf, test_vectors, test_labels);"
   ]
  },
  {
   "cell_type": "markdown",
   "id": "baf396ba-1d88-4d14-8771-210dc41fcbcf",
   "metadata": {},
   "source": [
    "Does SVM classifier work much better than your percetron?"
   ]
  },
  {
   "cell_type": "markdown",
   "id": "81488c96-0326-408f-aed9-d956ee068d65",
   "metadata": {},
   "source": [
    "The accuracy is significantly higher than that of my fundamental perceptron, at around 0.4."
   ]
  },
  {
   "cell_type": "markdown",
   "id": "5cf5af1a-7950-4356-bc42-29c41b31c03d",
   "metadata": {},
   "source": [
    "### &#128721; STOP (1 Point)\n",
    "**Pause, save and commit your changes to your Git repository!**\n",
    "\n",
    "Take a moment to save your notebook, commit the changes to your Git repository with a meaningful commit message.\n",
    "\n",
    "---\n",
    "### 3.2 PCA \n",
    "\n",
    "Although we only have 11 feature variables in the dataset, let's examine how much principal component analysis (PCA) can accelerate the classification. We will increase the PCA components from 1 to 11. For each case, we will perform a GridSearch and use test set to examine the accuracy. \n",
    "\n",
    "* Write a code to loop over n_components = 1 through 11. **4 pt**\n",
    "* Record the accuracy of each case and plot the profile of accuracy versus n_components. In the mean time, record the computer run times and plot the profile of time versus n_components. **2 pt**\n",
    "\n",
    "\n"
   ]
  },
  {
   "cell_type": "code",
   "execution_count": null,
   "id": "6cb7c31b-cc0f-4ce7-9156-cc1207b26186",
   "metadata": {},
   "outputs": [],
   "source": [
    "# put your code here\n",
    "for i in range(11):\n",
    "    n_components = i+1\n",
    "    \n",
    "    #Set up the pca object with the number of compoents we want to find\n",
    "    pca = PCA(n_components=n_components, whiten=True)\n",
    "    \n",
    "    #Fit the training data to the pca model.\n",
    "    _ = pca.fit(train_vectors)\n"
   ]
  },
  {
   "cell_type": "markdown",
   "id": "79f02dd4-9ad8-416f-8324-cede07489a0a",
   "metadata": {},
   "source": [
    "Please answer the following questions. \n",
    "* How is the overall accuracy of this SVM classifier?  **1 pt**\n",
    "* If the performance is not good, what do you think the cause is? **2 pt**"
   ]
  },
  {
   "cell_type": "markdown",
   "id": "bcb5f56b-173e-4013-9ccb-cd717aaf2524",
   "metadata": {},
   "source": [
    "<font size=6 color=\"#009600\">&#9998;</font> Put your answer here"
   ]
  },
  {
   "cell_type": "markdown",
   "id": "c7ccaefe-5020-42f3-8d1b-2359bcdb535d",
   "metadata": {},
   "source": [
    "* Describe the curves of time vs n_components and accuracy vs n_components. **1 pt**\n",
    "* Explain why the curves behave as they are in the figures **2 pt**"
   ]
  },
  {
   "cell_type": "markdown",
   "id": "43066ffe-1bdb-4c50-b4dd-ecec5287fc64",
   "metadata": {},
   "source": [
    "<font size=6 color=\"#009600\">&#9998;</font> Put your answer here"
   ]
  },
  {
   "cell_type": "markdown",
   "id": "2c10fcb2-8d8b-4e2f-a9fe-5b998e646114",
   "metadata": {},
   "source": [
    "### &#128721; STOP (1 Point)\n",
    "**Pause, save and commit your FINAL changes to your Git repository!**\n",
    "\n",
    "Take a moment to save your notebook, commit the changes to your Git repository with a meaningful commit message.\n",
    "\n",
    "\n",
    "\n",
    "---\n",
    "## Assignment wrap-up\n",
    "\n",
    "\n",
    "Please fill out the form that appears when you run the code below.  **You must completely fill this out in order to receive credit for the assignment!**\n",
    "\n"
   ]
  },
  {
   "cell_type": "code",
   "execution_count": null,
   "id": "8daa2c83-4226-47d8-ad62-0a15001b3261",
   "metadata": {},
   "outputs": [],
   "source": [
    "from IPython.display import HTML\n",
    "HTML(\n",
    "\"\"\"\n",
    "<iframe \n",
    "\tsrc=\"https://forms.office.com/r/mB0YjLYvAA\" \n",
    "\twidth=\"800px\" \n",
    "\theight=\"600px\" \n",
    "\tframeborder=\"0\" \n",
    "\tmarginheight=\"0\" \n",
    "\tmarginwidth=\"0\">\n",
    "\tLoading...\n",
    "</iframe>\n",
    "\"\"\"\n",
    ")"
   ]
  },
  {
   "cell_type": "markdown",
   "id": "ba1f1ca9-1cce-4437-a38d-163b31945d70",
   "metadata": {},
   "source": [
    "## Congratulations, you're done!\n",
    "\n",
    "&#169; Copyright 2025,  Department of Computational Mathematics, Science and Engineering at Michigan State University"
   ]
  },
  {
   "cell_type": "code",
   "execution_count": null,
   "id": "e08ef267-8dfb-4e1c-86b7-d4c4d42d6bde",
   "metadata": {},
   "outputs": [],
   "source": []
  }
 ],
 "metadata": {
  "kernelspec": {
   "display_name": "Python 3.11 (default)",
   "language": "python",
   "name": "python3"
  },
  "language_info": {
   "codemirror_mode": {
    "name": "ipython",
    "version": 3
   },
   "file_extension": ".py",
   "mimetype": "text/x-python",
   "name": "python",
   "nbconvert_exporter": "python",
   "pygments_lexer": "ipython3",
   "version": "3.11.11"
  }
 },
 "nbformat": 4,
 "nbformat_minor": 5
}
