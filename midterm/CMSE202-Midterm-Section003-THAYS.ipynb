{
 "cells": [
  {
   "cell_type": "markdown",
   "metadata": {},
   "source": [
    "### <p style=\"text-align: right;\">Thomas Hays</p>\n",
    "### <p style=\"text-align: right;\">THaysMSU</p>"
   ]
  },
  {
   "cell_type": "markdown",
   "metadata": {},
   "source": [
    "# CMSE 202 Midterm (Section 003 - Spring 25)\n",
    "\n",
    "\n",
    "# &#128721; READ EVERYTHING CAREFULLY\n",
    "\n",
    "\n",
    "The goal of this midterm is to give you the opportunity to test out some of the skills that you've developed thus far this semester. In particular, you'll practice setting up a GitHub repository, committing and pushing repository changes, downloading data with command line tools, performing some data analysis, possibly using a new Python package, and writing a python class. You should find that you have all of the skills necessary to complete this exam with even just eight weeks of CMSE 202 under your belt!\n",
    "\n",
    "You are encouraged to look through the entire exam before you get started so that you can appropriately budget your time and understand the broad goals of the exam. Once you've read through it, try doing Parts 1 and 2 first so that you have your repository set up and you download all necessary data files as they will be necessary to complete the assigned tasks. Let your instructor know right away if you have problems downloading the data!\n",
    "\n",
    "The exam is set up so that even if you get stuck on one part there are opportunities to get points on the other parts, so consider jumping ahead if you feel like you aren't making progress and then come back later if you have time.\n",
    "\n",
    "**Important note about using online resources**: This exam is \"open internet\". That means that you can look up documentation, google how to accomplish certain Python tasks, etc. Being able to effectively use the internet for computational modeling and data science is a very important skill, so we want to make sure you have the opportunity to exercise that skill. **However**: The use of any person-to-person communication software is absolutely not acceptable. If you are seen accessing your email, using a chat program (e.g. Slack), or any sort of collaborative cloud storage or document software (e.g. Google Documents), you will be at risk for receiving a zero on the exam.\n",
    "\n",
    "**Important Guidelines on AI Tool Usage**\n",
    "\n",
    "This exam allows the use of AI tools (such as ChatGPT, Claude, HiTA) with specific guidelines that mirror real-world professional practices. These tools should enhance your learning and problem-solving process, not replace your intellectual engagement. Here are the key requirements:\n",
    "\n",
    "1. **Appropriate Use of AI**:\n",
    "   - Use AI as a learning assistant to understand concepts, debug code, or get unstuck\n",
    "   - Use AI to improve your solution approach or verify your thinking\n",
    "   - Use AI to learn about new Python packages or functions you might need\n",
    "\n",
    "2. **Prohibited Uses**:\n",
    "   - Direct copying of AI-generated solutions without understanding\n",
    "   - Asking AI to complete entire questions without your intellectual input\n",
    "   - Using AI to modify provided starter code or test cases\n",
    "   - Using AI to circumvent learning objectives or problem requirements\n",
    "\n",
    "3. **Documentation Requirements**:\n",
    "   - You must cite any AI assistance received by adding a comment that includes:\n",
    "     * The AI tool used\n",
    "     * The specific question you asked\n",
    "     * How you modified or improved upon the AI's suggestion\n",
    "   - Example: \"# AI assistance: Used Claude to understand lmfit parameter initialization. Modified the suggested approach to include custom bounds.\"\n",
    "\n",
    "4. **Evaluation Implications**:\n",
    "   - Questions showing signs of direct AI solution copying will receive zero points\n",
    "   - Evidence of not following problem instructions, even if AI-suggested, will result in zero points\n",
    "   - Modified starter code or test cases will result in zero points for that question\n",
    "\n",
    "Remember: The goal is to demonstrate your understanding and problem-solving abilities. AI tools should support your learning, not replace your critical thinking and coding skills.\n",
    "\n",
    "**Note**: Traditional open internet resources (documentation, Stack Overflow, etc.) remain available, but person-to-person communication tools are not permitted.\"\n",
    "\n",
    "**Keep your eyes on your screen!** Unfortunately, there isn't enough space in the room for everyone to sit at their own table so please do your best to keep your eyes on your own screen. This exam is designed to give *you* the opportunity to show the instructor what you can do and you should hold yourself accountable for maintaining a high level of academic integrity. If any of the instructors observe suspicious behavior, you will, again, risk receiving a zero.\n",
    "\n",
    "The maximum number of points is: **83 Points**"
   ]
  },
  {
   "cell_type": "markdown",
   "metadata": {},
   "source": [
    "![Moira](https://media.giphy.com/media/26gs78HRO8sOuhTkQ/giphy.gif)"
   ]
  },
  {
   "cell_type": "markdown",
   "metadata": {},
   "source": [
    "## Table of Contents\n",
    "\n",
    "Navigate through the midterm using these links:\n",
    "\n",
    "* [Part 0: Academic integrity statement (1 point)](#part-0-academic-integrity-statement-1-point)\n",
    "* [Part 1: Git and Command Line Interface (9 points)](#part-1-git-and-command-line-interface-9-points)\n",
    "* [Part 2: Working with a less familiar Python package (9 points)](#part-2-working-with-a-less-familiar-python-package-9-points)\n",
    "* [Part 3: Downloading and analyzing unfamiliar data (24 points)](#part-3-downloading-and-analyzing-unfamiliar-data-24-points)\n",
    "* [Part 4: Object-Oriented Programming (38 points)](#part-4-object-oriented-programming-38-points)\n",
    "* [Part 5. Conclusion (3 points)](#part-5-conclusion-3-points)"
   ]
  },
  {
   "cell_type": "markdown",
   "metadata": {},
   "source": [
    "Total points: **81 points**"
   ]
  },
  {
   "cell_type": "markdown",
   "metadata": {},
   "source": [
    "---\n",
    "<a id=\"part-0-academic-integrity-statement-1-point\"></a>\n",
    "\n",
    "# Part 0: Academic integrity statement (1 point)\n",
    "\n",
    "[Back to Table of Contents](#Table-of-Contents)\n",
    "\n",
    "Read the following statement and edit the markdown text to put your name in the statement. This is your commitment to doing your own authentic work on this exam."
   ]
  },
  {
   "cell_type": "markdown",
   "metadata": {},
   "source": [
    "> I, Thomas Hays, affirm that this exam represents my own authetic work, without the use of any unpermitted aids or resources or person-to-person communication. I understand that this exam an an opportunity to showcase my own progress in developing and improving my computational skills and have done my best to demonstrate those skills."
   ]
  },
  {
   "cell_type": "markdown",
   "metadata": {},
   "source": [
    "---\n",
    "<a id=\"part-1-git-and-command-line-interface-9-points\"></a>\n",
    "\n",
    "# Part 1: Git and Command Line Interface (9 points)\n",
    "\n",
    "[Back to Table of Contents](#Table-of-Contents)\n",
    "\n",
    "## Setup Instructions\n",
    "\n",
    "Before starting this section:\n",
    "1. Open a new terminal/powershell/command prompt window\n",
    "2. Arrange your screen with this notebook on the left side and the terminal on the right side\n",
    "3. This split-screen setup will help you work efficiently between the notebook and terminal\n",
    "\n",
    "**Important**: Even if your terminal opens in the correct directory, you must write out the full commands as if starting from your home directory."
   ]
  },
  {
   "cell_type": "markdown",
   "metadata": {},
   "source": [
    "&#9989; **Question 1.1 (2 points)**: Move into your `cmse202-s25-turnin` folder and verify your location.\n",
    "\n",
    "Write the commands you used below (minimum 2 lines):"
   ]
  },
  {
   "cell_type": "markdown",
   "metadata": {
    "question_id": "P1Q1",
    "tags": [
     "student_answer"
    ]
   },
   "source": [
    "cd \"CMSE 202\"\n",
    "\n",
    "cd \"CMSE202-s25-turnin\"\n",
    "\n",
    "ls"
   ]
  },
  {
   "cell_type": "markdown",
   "metadata": {},
   "source": [
    "&#9989; **Question 1.2 (2 points)**: Create the following directory structure in your repository:\n",
    "```\n",
    "cmse202-s25-turnin/\n",
    "    └── midterm/\n",
    "        ├── screenshots/\n",
    "        └── data/\n",
    "```\n",
    "Write the commands you used to create these folders:"
   ]
  },
  {
   "cell_type": "markdown",
   "metadata": {
    "question_id": "P1Q2",
    "tags": [
     "student_answer"
    ]
   },
   "source": [
    "mkdir \"midterm\"\n",
    "\n",
    "cd \"midterm\"\n",
    "\n",
    "mkdir \"screenshots\"\n",
    "\n",
    "mkdir \"data\""
   ]
  },
  {
   "cell_type": "markdown",
   "metadata": {},
   "source": [
    "&#9989; **Question 1.3 (1 point)**: Write the command to move this notebook into the `midterm` folder:"
   ]
  },
  {
   "cell_type": "markdown",
   "metadata": {
    "question_id": "P1Q3",
    "tags": [
     "student_answer"
    ]
   },
   "source": [
    "mv \"CMSE202-Midterm-Section003-THAYS.ipynb\" ..\n",
    "\n",
    "cd ..\n",
    "\n",
    "mv \"CMSE202-Midterm-Section003-THAYS.ipynb\" ..\n",
    "\n",
    "cd ..\n",
    "\n",
    "mv \"CMSE202-Midterm-Section003-THAYS.ipynb\" CMSE202-s25-turnin\n",
    "\n",
    "cd CMSE202-s25-turnin\n",
    "\n",
    "mv \"CMSE202-Midterm-Section003-THAYS.ipynb\" midterm\n",
    "\n",
    "cd midterm"
   ]
  },
  {
   "cell_type": "markdown",
   "metadata": {},
   "source": [
    "&#9989; **Question 1.4 (2 points)**: Check your repository status.\n",
    "\n",
    "Write the command you used:"
   ]
  },
  {
   "cell_type": "markdown",
   "metadata": {
    "question_id": "P1Q4",
    "tags": [
     "student_answer"
    ]
   },
   "source": [
    "git status"
   ]
  },
  {
   "cell_type": "markdown",
   "metadata": {},
   "source": [
    "Paste the output of the command:"
   ]
  },
  {
   "cell_type": "markdown",
   "metadata": {
    "question_id": "P1Q4",
    "tags": [
     "student_answer"
    ]
   },
   "source": [
    "On branch main Your branch is up to date with 'origin/main'.\n",
    "\n",
    "Untracked files: (use \"git add ...\" to include in what will be committed) .ipynb_checkpoints/ midterm/\n",
    "\n",
    "nothing added to commit but untracked files present (use \"git add\" to track)"
   ]
  },
  {
   "cell_type": "markdown",
   "metadata": {},
   "source": [
    "&#9989; **Question 1.5 (1 point)**: Do you have any untracked files? If not, go back and fix any issues."
   ]
  },
  {
   "cell_type": "markdown",
   "metadata": {
    "question_id": "P1Q5",
    "tags": [
     "student_answer"
    ]
   },
   "source": [
    "Yes, but I have since fixed the issues."
   ]
  },
  {
   "cell_type": "markdown",
   "metadata": {},
   "source": [
    "&#9989; **Question 1.6 (1 point)**: Commit your changes with the message \"Committing Part 1\" and push to GitHub.\n",
    "\n",
    "Write the commands you used:"
   ]
  },
  {
   "cell_type": "markdown",
   "metadata": {
    "question_id": "P1Q6",
    "tags": [
     "student_answer"
    ]
   },
   "source": [
    "git commit -a -m \"Committing Part 1\""
   ]
  },
  {
   "cell_type": "markdown",
   "metadata": {},
   "source": [
    "---\n",
    "### &#128721; STOP\n",
    "**Pause to commit your changes to your Git repository! (1 point)**\n",
    "\n",
    "Take a moment to save your notebook, commit the changes to your Git repository using the commit message \"**Committing Part 2**\", and push the changes to GitHub."
   ]
  },
  {
   "cell_type": "markdown",
   "metadata": {},
   "source": [
    "----\n",
    "----\n",
    "\n",
    "<a id=\"part-2-working-with-a-less-familiar-python-package-9-points\"></a>\n",
    "\n",
    "# Part 2: Working with a less familiar Python package (9 points)\n",
    "[Back to Table of Contents](#Table-of-Contents)\n",
    "\n",
    "\n",
    "In this part of the exam you will need to review a bit of documentation from either a Python package that you've explored a bit this semester or a new one."
   ]
  },
  {
   "cell_type": "markdown",
   "metadata": {},
   "source": [
    "Let's say you like plasma physics and decide to write a python library for it, but you find out that someone has already started working on a library for plasmas and they called it `plasmapy`. Here is the [documentation.](https://docs.plasmapy.org/en/stable/index.html)"
   ]
  },
  {
   "cell_type": "markdown",
   "metadata": {},
   "source": [
    "&#9989; **Question 2.1 (1 point)**: To start, install `plasmapy` using `pip` or `conda` . "
   ]
  },
  {
   "cell_type": "code",
   "execution_count": 2,
   "metadata": {},
   "outputs": [
    {
     "name": "stdout",
     "output_type": "stream",
     "text": [
      "/usr/bin/bash: line 1: pip: command not found\n"
     ]
    }
   ],
   "source": [
    "# Put the command for installing plasmapy here and run the cell. Don't forget to restart your kernel afterwards\n",
    "!pip install plasmapy"
   ]
  },
  {
   "cell_type": "markdown",
   "metadata": {},
   "source": [
    "&#9989; **Question 2.2 (2 points)**: Answer the following questions in the next markdown cell. Read the output of your command. \n",
    "\n",
    "1. Was `plasmapy` installed already ? \n",
    "2. What version of `plasmapy` is installed ?"
   ]
  },
  {
   "cell_type": "markdown",
   "metadata": {},
   "source": [
    "```\n",
    "1. It seems that plasmapy was already installed.\n",
    "2. The version 2024.10.0\n",
    "```"
   ]
  },
  {
   "cell_type": "markdown",
   "metadata": {},
   "source": [
    "### Exploring the new library\n",
    "\n",
    "Now that we have installed `plasmapy` let's look at some of this package features. From its [documentation](https://docs.plasmapy.org/en/stable/index.html) we notice that there is a `Particle` class. \n",
    "\n",
    "&#9989; **Question 2.3 (1 point)**: Print the docstring of the `Particle` class. You should get something similar to [this](https://docs.plasmapy.org/en/stable/api/plasmapy.particles.particle_class.Particle.html#plasmapy.particles.particle_class.Particle). "
   ]
  },
  {
   "cell_type": "code",
   "execution_count": 11,
   "metadata": {},
   "outputs": [
    {
     "name": "stdout",
     "output_type": "stream",
     "text": [
      "\n",
      "    A class for an individual particle or antiparticle.\n",
      "\n",
      "    Parameters\n",
      "    ----------\n",
      "    argument : |particle-like|\n",
      "        A string representing a particle, element, isotope, or ion; an\n",
      "        integer representing the atomic number of an element; or a\n",
      "        |Particle|.\n",
      "\n",
      "    mass_numb : int, |keyword-only|, optional\n",
      "        The mass number of an isotope.\n",
      "\n",
      "    Z : int, |keyword-only|, optional\n",
      "        The |charge number| of an ion or neutral atom.\n",
      "\n",
      "    Raises\n",
      "    ------\n",
      "    `TypeError`\n",
      "        For when any of the arguments or keywords is not of the required\n",
      "        type.\n",
      "\n",
      "    `~plasmapy.particles.exceptions.InvalidParticleError`\n",
      "        Raised when the particle input does not correspond to a valid\n",
      "        particle or is contradictory.\n",
      "\n",
      "    `~plasmapy.particles.exceptions.InvalidElementError`\n",
      "        For when an attribute is being accessed that requires\n",
      "        information about an element, but the particle is not an\n",
      "        element, isotope, or ion.\n",
      "\n",
      "    `~plasmapy.particles.exceptions.InvalidIsotopeError`\n",
      "        For when an attribute is being accessed that requires\n",
      "        information about an isotope or nuclide, but the particle is not\n",
      "        an isotope (or an ion of an isotope).\n",
      "\n",
      "    `~plasmapy.particles.exceptions.ChargeError`\n",
      "        For when either the\n",
      "        `~plasmapy.particles.particle_class.Particle.charge` or\n",
      "        `~plasmapy.particles.particle_class.Particle.charge_number`\n",
      "        attributes is being accessed but the charge information for the\n",
      "        particle is not available.\n",
      "\n",
      "    `~plasmapy.particles.exceptions.ParticleError`\n",
      "        Raised for attempts at converting a\n",
      "        |Particle| object to a `bool`.\n",
      "\n",
      "    See Also\n",
      "    --------\n",
      "    ~plasmapy.particles.particle_class.CustomParticle\n",
      "    ~plasmapy.particles.particle_class.DimensionlessParticle\n",
      "    ~plasmapy.particles.particle_collections.ParticleList\n",
      "    ~plasmapy.particles.particle_class.valid_categories\n",
      "\n",
      "    Notes\n",
      "    -----\n",
      "    Valid particle categories include: ``\"actinide\"``, ``\"alkali\n",
      "    metal\"``, ``\"alkaline earth metal\"``, ``\"antibaryon\"``,\n",
      "    ``\"antilepton\"``, ``\"antimatter\"``, ``\"antineutrino\"``,\n",
      "    ``\"baryon\"``, ``\"boson\"``, ``\"charged\"``, ``\"custom\"``,\n",
      "    ``\"electron\"``, ``\"element\"``, ``\"fermion\"``, ``\"halogen\"``,\n",
      "    ``\"ion\"``, ``\"isotope\"``, ``\"lanthanide\"``, ``\"lepton\"``,\n",
      "    ``\"matter\"``, ``\"metal\"``, ``\"metalloid\"``, ``\"neutrino\"``,\n",
      "    ``\"neutron\"``, ``\"noble gas\"``, ``\"nonmetal\"``, ``\"positron\"``,\n",
      "    ``\"post-transition metal\"``, ``\"proton\"``, ``\"stable\"``,\n",
      "    ``\"transition metal\"``, ``\"uncharged\"``, and ``\"unstable\"``.\n",
      "\n",
      "    Examples\n",
      "    --------\n",
      "    Particles may be defined using a wide variety of aliases:\n",
      "\n",
      "    >>> proton = Particle(\"p+\")\n",
      "    >>> electron = Particle(\"e-\")\n",
      "    >>> neutron = Particle(\"neutron\")\n",
      "    >>> deuteron = Particle(\"D\", Z=1)\n",
      "    >>> triton = Particle(\"T+\")\n",
      "    >>> alpha = Particle(\"He\", mass_numb=4, Z=2)\n",
      "    >>> positron = Particle(\"positron\")\n",
      "    >>> hydrogen = Particle(1)  # atomic number\n",
      "\n",
      "    The `~plasmapy.particles.particle_class.Particle.symbol` attribute\n",
      "    returns the particle's symbol in the standard form.\n",
      "\n",
      "    >>> positron.symbol\n",
      "    'e+'\n",
      "\n",
      "    The `~plasmapy.particles.particle_class.Particle.element`,\n",
      "    `~plasmapy.particles.particle_class.Particle.isotope`, and\n",
      "    `~plasmapy.particles.particle_class.Particle.ionic_symbol` attributes\n",
      "    provide the symbols for each of these different types of particles.\n",
      "\n",
      "    >>> proton.element\n",
      "    'H'\n",
      "    >>> alpha.isotope\n",
      "    'He-4'\n",
      "    >>> deuteron.ionic_symbol\n",
      "    'D 1+'\n",
      "\n",
      "    The `~plasmapy.particles.particle_class.Particle.ionic_symbol`\n",
      "    attribute works for neutral atoms if charge information is available.\n",
      "\n",
      "    >>> deuterium = Particle(\"D\", Z=0)\n",
      "    >>> deuterium.ionic_symbol\n",
      "    'D 0+'\n",
      "\n",
      "    If the particle doesn't belong to one of those categories, then\n",
      "    these attributes are `None`.\n",
      "\n",
      "    >>> positron.element is None\n",
      "    True\n",
      "\n",
      "    The attributes of a |Particle| instance may be used to test whether\n",
      "    or not a particle is an element, isotope, or ion.\n",
      "\n",
      "    >>> True if positron.element else False\n",
      "    False\n",
      "    >>> True if deuterium.isotope else False\n",
      "    True\n",
      "    >>> True if Particle(\"alpha\").is_ion else False\n",
      "    True\n",
      "\n",
      "    Many of the attributes provide physical properties of a particle.\n",
      "\n",
      "    >>> electron.charge_number\n",
      "    -1\n",
      "    >>> proton.spin\n",
      "    0.5\n",
      "    >>> alpha.atomic_number\n",
      "    2\n",
      "    >>> deuteron.mass_number\n",
      "    2\n",
      "    >>> deuteron.binding_energy.to(\"MeV\")\n",
      "    <Quantity 2.224... MeV>\n",
      "    >>> alpha.charge\n",
      "    <Quantity 3.20435...e-19 C>\n",
      "    >>> neutron.half_life\n",
      "    <Quantity 881.5 s>\n",
      "    >>> Particle(\"C-14\").half_life.to(u.year)\n",
      "    <Quantity 5730. yr>\n",
      "    >>> hydrogen.ionization_energy\n",
      "    <Quantity 2.17870942e-18 J>\n",
      "    >>> deuteron.electron_number\n",
      "    0\n",
      "    >>> alpha.neutron_number\n",
      "    2\n",
      "\n",
      "    If a |Particle| instance represents an elementary particle, then\n",
      "    the unary ``~`` (invert) operator may be used to return the\n",
      "    particle's antiparticle.\n",
      "\n",
      "    >>> ~positron\n",
      "    Particle(\"e-\")\n",
      "\n",
      "    A |Particle| instance may be used as the first argument to\n",
      "    |Particle|.\n",
      "\n",
      "    >>> iron = Particle(\"Fe\")\n",
      "    >>> iron == Particle(iron)\n",
      "    True\n",
      "    >>> Particle(iron, mass_numb=56, Z=6)\n",
      "    Particle(\"Fe-56 6+\")\n",
      "\n",
      "    If the previously constructed |Particle| instance represents an\n",
      "    element, then the ``Z`` and ``mass_numb`` arguments may be used to\n",
      "    specify an ion or isotope.\n",
      "\n",
      "    >>> iron = Particle(\"Fe\")\n",
      "    >>> Particle(iron, Z=1)\n",
      "    Particle(\"Fe 1+\")\n",
      "    >>> Particle(iron, mass_numb=56)\n",
      "    Particle(\"Fe-56\")\n",
      "\n",
      "    Adding particles together will create a\n",
      "    `~plasmapy.particles.particle_collections.ParticleList`, which is\n",
      "    a list-like collection of particles.\n",
      "\n",
      "    >>> proton + 2 * electron\n",
      "    ParticleList(['p+', 'e-', 'e-'])\n",
      "\n",
      "    The ``>`` operator can be used with |Particle| and/or\n",
      "    `~plasmapy.particles.particle_collections.ParticleList` objects to\n",
      "    return the nuclear reaction energy.\n",
      "\n",
      "    >>> deuteron + triton > alpha + neutron\n",
      "    <Quantity 2.81810898e-12 J>\n",
      "\n",
      "    The `~plasmapy.particles.particle_class.Particle.categories` attribute\n",
      "    and `~plasmapy.particles.particle_class.Particle.is_category` method\n",
      "    may be used to find and test particle membership in categories.\n",
      "    Please refer to\n",
      "    `~plasmapy.particles.particle_class.Particle.is_category` for more\n",
      "    details, including a list of all valid particle categories.\n",
      "    \n"
     ]
    }
   ],
   "source": [
    "# Put your code here\n",
    "# Answer assisted by hita AI tool, prompt: \"How would I go about printing out the docstring for a class?\"\n",
    "import plasmapy as pl\n",
    "import plasmapy.particles\n",
    "print(pl.particles.particle_class.Particle.__doc__)"
   ]
  },
  {
   "cell_type": "markdown",
   "metadata": {},
   "source": [
    "&#9989; **Question 2.4 (1 point)**: What error is raised if you pass an argument that is not a valid particle?"
   ]
  },
  {
   "cell_type": "markdown",
   "metadata": {},
   "source": [
    "plasmapy.particles.exceptions.InvalidParticleError"
   ]
  },
  {
   "cell_type": "markdown",
   "metadata": {},
   "source": [
    "&#9989; **Question 2.5 (3 points)**: Read through the documentation of the `Particle`class [Link](https://docs.plasmapy.org/en/stable/particles/particle_class.html) and \n",
    "\n",
    "1. Create a muon particle and call it `my_muon`.\n",
    "\n",
    "2. Check whether `lepton` is one of the categories of `my_muon` using one of its **methods**.\n",
    "\n",
    "3. Print the antiparticle of `my_muon` using one of its **attributes**.\n"
   ]
  },
  {
   "cell_type": "code",
   "execution_count": 15,
   "metadata": {},
   "outputs": [
    {
     "name": "stdout",
     "output_type": "stream",
     "text": [
      "True\n",
      "mu+\n"
     ]
    }
   ],
   "source": [
    "### Put your code here\n",
    "\n",
    "my_muon = pl.particles.particle_class.Particle('mu-')\n",
    "print(my_muon.is_category(\"lepton\"))\n",
    "print(~my_muon)"
   ]
  },
  {
   "cell_type": "markdown",
   "metadata": {},
   "source": [
    "----\n",
    "----\n",
    "\n",
    "<a id=\"part-3-downloading-and-analyzing-unfamiliar-data-24-points\"></a>\n",
    "\n",
    "# Part 3: Downloading and analyzing unfamiliar data (24 points)\n",
    "\n",
    "[Back to Table of Contents](#Table-of-Contents)\n",
    "\n",
    "For this part of the exam, you're to download and analyze a dataset that you've likely not looked at before. You'll perform some simple, exploratorary analysis and create basic visualizations.\n",
    "\n",
    "In particular, you're going to be working with a dataset that contains data on all nuclear explosions between 1945 and 1998. The data are from \n",
    "N.-O. Bergkvist and R. Ferm, Nuclear Explosions 1945–1998, Swedish Defence Research Establishment/SIPRI, Stockholm, July 2000.\n",
    "\n",
    "There are 16 columns; here we will be concerned with those described in the table below.\n",
    "\n",
    "| Column      | Description                                                                           |\n",
    "|-------------|---------------------------------------------------------------------------------------|\n",
    "| date        | Date of explosion in format YYYYMMDD                                                  |\n",
    "| time        | Time of explosion in format HHMMSS.Z, where Z represents tenths of seconds              |\n",
    "| country     | The state that carried out the explosion                                              |\n",
    "| lat         | The latitude of the explosion in degrees, relative to the equator                       |\n",
    "| long        | The longitude of the explosion in degrees, relative to the prime meridian               |\n",
    "| yield_lower | Lower estimate of the yield in kilotons (kt) of TNT                                     |\n",
    "| yield_upper | Upper estimate of the yield in kilotons (kt) of TNT                                     |\n",
    "| type        | The method of deployment of the nuclear device                                          |\n",
    "\n",
    "The link to the file is [hidden here](https://raw.githubusercontent.com/msu-cmse-courses/cmse202-S22-data/main/code_samples/nuclear-explosion-data.csv)\n",
    "\n"
   ]
  },
  {
   "cell_type": "markdown",
   "metadata": {},
   "source": [
    "&#9989; **Question 3.1 (1 point)**: Save this file in the same directory as your notebook so you can load it directly. \n",
    "\n",
    "**Then, in the cell below, put the command or commands you used to download the files. If you did not use a command line tool to download the files, write down a command that *would* have fetched the files.**"
   ]
  },
  {
   "cell_type": "markdown",
   "metadata": {
    "question_id": "P2Q3",
    "tags": [
     "student_answer"
    ]
   },
   "source": [
    "``` \n",
    "curl -o \"nuclear_explosion_data.csv\" \"https://raw.githubusercontent.com/msu-cmse-courses/cmse202-S22-data/main/code_samples/nuclear-explosion-data.csv\"\n",
    "```"
   ]
  },
  {
   "cell_type": "markdown",
   "metadata": {},
   "source": [
    "&#9989; **Question 3.2 (2 points)**: To get started, **read in the `nuclear-explosion-data.csv` dataset** and then display the first 12 rows of the data using **Pandas**."
   ]
  },
  {
   "cell_type": "code",
   "execution_count": 17,
   "metadata": {
    "question_id": "P2Q3",
    "tags": [
     "student_answer"
    ]
   },
   "outputs": [
    {
     "name": "stdout",
     "output_type": "stream",
     "text": [
      "        date      time     id country       region source    lat    long   mb  \\\n",
      "0   19450716  123000.0  45001     USA   ALAMOGORDO    DOE  32.54 -105.57  0.0   \n",
      "1   19450805  231500.0  45002     USA    HIROSHIMA    DOE  34.23  132.27  0.0   \n",
      "2   19450809   15800.0  45003     USA     NAGASAKI    DOE  32.45  129.52  0.0   \n",
      "3   19460630  220100.0  46001     USA       BIKINI    DOE  11.35  165.20  0.0   \n",
      "4   19460724  213500.0  46002     USA       BIKINI    DOE  11.35  165.20  0.0   \n",
      "5   19480414  181700.0  48001     USA     ENEWETAK    DOE  11.30  162.15  0.0   \n",
      "6   19480430  180900.0  48002     USA     ENEWETAK    DOE  11.30  162.15  0.0   \n",
      "7   19480514  180400.0  48003     USA     ENEWETAK    DOE  11.30  162.15  0.0   \n",
      "8   19490829   12000.0  49001    USSR  SEMI KAZAKH    DOE  48.00   76.00  0.0   \n",
      "9   19510127  134500.0  51001     USA          NTS    DOE  37.00 -116.00  0.0   \n",
      "10  19510128  135200.0  51002     USA          NTS    DOE  37.00 -116.00  0.0   \n",
      "11  19510201  134700.0  51003     USA          NTS    DOE  37.00 -116.00  0.0   \n",
      "\n",
      "     Ms  depth  yield_lower  yield_upper purpose       name     type  \n",
      "0   0.0  -0.10         21.0         21.0      WR    TRINITY    TOWER  \n",
      "1   0.0  -0.60         15.0         15.0  COMBAT  LITTLEBOY  AIRDROP  \n",
      "2   0.0  -0.60         21.0         21.0  COMBAT     FATMAN  AIRDROP  \n",
      "3   0.0  -0.20         21.0         21.0      WE       ABLE  AIRDROP  \n",
      "4   0.0   0.03         21.0         21.0      WE      BAKER       UW  \n",
      "5   0.0  -0.08         37.0         37.0      WR      X-RAY    TOWER  \n",
      "6   0.0  -0.08         49.0         49.0      WR       YOKE    TOWER  \n",
      "7   0.0  -0.08         18.0         18.0      WR      ZEBRA    TOWER  \n",
      "8   0.0   0.00         22.0         22.0      WR        NaN  SURFACE  \n",
      "9   0.0  -0.35          1.0          1.0      WR       ABLE  AIRDROP  \n",
      "10  0.0  -0.35          8.0          8.0      WR      BAKER  AIRDROP  \n",
      "11  0.0  -0.35          1.0          1.0      WR       EASY  AIRDROP  \n"
     ]
    }
   ],
   "source": [
    "# Put your code here\n",
    "import pandas as pd\n",
    "\n",
    "nucdat = pd.read_csv(\"nuclear_explosion_data.csv\")\n",
    "nucprint = nucdat[:12]\n",
    "print(nucprint)"
   ]
  },
  {
   "cell_type": "markdown",
   "metadata": {},
   "source": [
    "Run the following command and answer the questions below\n"
   ]
  },
  {
   "cell_type": "code",
   "execution_count": 18,
   "metadata": {},
   "outputs": [
    {
     "name": "stdout",
     "output_type": "stream",
     "text": [
      "<class 'pandas.core.frame.DataFrame'>\n",
      "RangeIndex: 2051 entries, 0 to 2050\n",
      "Data columns (total 16 columns):\n",
      " #   Column       Non-Null Count  Dtype  \n",
      "---  ------       --------------  -----  \n",
      " 0   date         2051 non-null   int64  \n",
      " 1   time         2051 non-null   float64\n",
      " 2   id           2051 non-null   int64  \n",
      " 3   country      2051 non-null   object \n",
      " 4   region       2051 non-null   object \n",
      " 5   source       2051 non-null   object \n",
      " 6   lat          2051 non-null   float64\n",
      " 7   long         2051 non-null   float64\n",
      " 8   mb           2051 non-null   float64\n",
      " 9   Ms           2051 non-null   float64\n",
      " 10  depth        2051 non-null   float64\n",
      " 11  yield_lower  2048 non-null   float64\n",
      " 12  yield_upper  2046 non-null   float64\n",
      " 13  purpose      2050 non-null   object \n",
      " 14  name         1386 non-null   object \n",
      " 15  type         2051 non-null   object \n",
      "dtypes: float64(8), int64(2), object(6)\n",
      "memory usage: 256.5+ KB\n"
     ]
    }
   ],
   "source": [
    "# Run this. Replace df with the name of your dataframe if it is different.\n",
    "nucdat.info()\n"
   ]
  },
  {
   "cell_type": "markdown",
   "metadata": {},
   "source": [
    "&#9989; **Question 3.3 (4 pts)**: What are the columns with Nan values?"
   ]
  },
  {
   "cell_type": "markdown",
   "metadata": {
    "question_id": "P2Q3",
    "tags": [
     "student_answer"
    ]
   },
   "source": [
    "There are a handful of columns with NaN values - a few in yield_lower, a few in yield_upper, and one in purpose - but most are in the name column. NaN values in the name column are stand-ins for nuclear devices that were detonated, but did not have proper code-names."
   ]
  },
  {
   "cell_type": "markdown",
   "metadata": {},
   "source": [
    "This dataset contains more information that we care about at the moment. \n",
    "\n",
    "&#9989; **Question 3.4 (3 pts)**: Drop all the columns **except** `date, country, lat, long, yield_upper, purpose, type`\n"
   ]
  },
  {
   "cell_type": "code",
   "execution_count": 20,
   "metadata": {
    "question_id": "P2Q3",
    "tags": [
     "student_answer"
    ]
   },
   "outputs": [],
   "source": [
    "# Put your code here\n",
    "df = nucdat.drop([\"time\", \"id\", \"region\", \"source\", \"mb\", \"Ms\", \"depth\", \"name\"], axis = 1)"
   ]
  },
  {
   "cell_type": "code",
   "execution_count": 21,
   "metadata": {},
   "outputs": [
    {
     "data": {
      "text/html": [
       "<div>\n",
       "<style scoped>\n",
       "    .dataframe tbody tr th:only-of-type {\n",
       "        vertical-align: middle;\n",
       "    }\n",
       "\n",
       "    .dataframe tbody tr th {\n",
       "        vertical-align: top;\n",
       "    }\n",
       "\n",
       "    .dataframe thead th {\n",
       "        text-align: right;\n",
       "    }\n",
       "</style>\n",
       "<table border=\"1\" class=\"dataframe\">\n",
       "  <thead>\n",
       "    <tr style=\"text-align: right;\">\n",
       "      <th></th>\n",
       "      <th>date</th>\n",
       "      <th>country</th>\n",
       "      <th>lat</th>\n",
       "      <th>long</th>\n",
       "      <th>yield_lower</th>\n",
       "      <th>yield_upper</th>\n",
       "      <th>purpose</th>\n",
       "      <th>type</th>\n",
       "    </tr>\n",
       "  </thead>\n",
       "  <tbody>\n",
       "    <tr>\n",
       "      <th>0</th>\n",
       "      <td>1945-07-16</td>\n",
       "      <td>USA</td>\n",
       "      <td>32.54</td>\n",
       "      <td>-105.57</td>\n",
       "      <td>21.0</td>\n",
       "      <td>21.0</td>\n",
       "      <td>WR</td>\n",
       "      <td>TOWER</td>\n",
       "    </tr>\n",
       "    <tr>\n",
       "      <th>1</th>\n",
       "      <td>1945-08-05</td>\n",
       "      <td>USA</td>\n",
       "      <td>34.23</td>\n",
       "      <td>132.27</td>\n",
       "      <td>15.0</td>\n",
       "      <td>15.0</td>\n",
       "      <td>COMBAT</td>\n",
       "      <td>AIRDROP</td>\n",
       "    </tr>\n",
       "    <tr>\n",
       "      <th>2</th>\n",
       "      <td>1945-08-09</td>\n",
       "      <td>USA</td>\n",
       "      <td>32.45</td>\n",
       "      <td>129.52</td>\n",
       "      <td>21.0</td>\n",
       "      <td>21.0</td>\n",
       "      <td>COMBAT</td>\n",
       "      <td>AIRDROP</td>\n",
       "    </tr>\n",
       "    <tr>\n",
       "      <th>3</th>\n",
       "      <td>1946-06-30</td>\n",
       "      <td>USA</td>\n",
       "      <td>11.35</td>\n",
       "      <td>165.20</td>\n",
       "      <td>21.0</td>\n",
       "      <td>21.0</td>\n",
       "      <td>WE</td>\n",
       "      <td>AIRDROP</td>\n",
       "    </tr>\n",
       "    <tr>\n",
       "      <th>4</th>\n",
       "      <td>1946-07-24</td>\n",
       "      <td>USA</td>\n",
       "      <td>11.35</td>\n",
       "      <td>165.20</td>\n",
       "      <td>21.0</td>\n",
       "      <td>21.0</td>\n",
       "      <td>WE</td>\n",
       "      <td>UW</td>\n",
       "    </tr>\n",
       "  </tbody>\n",
       "</table>\n",
       "</div>"
      ],
      "text/plain": [
       "        date country    lat    long  yield_lower  yield_upper purpose     type\n",
       "0 1945-07-16     USA  32.54 -105.57         21.0         21.0      WR    TOWER\n",
       "1 1945-08-05     USA  34.23  132.27         15.0         15.0  COMBAT  AIRDROP\n",
       "2 1945-08-09     USA  32.45  129.52         21.0         21.0  COMBAT  AIRDROP\n",
       "3 1946-06-30     USA  11.35  165.20         21.0         21.0      WE  AIRDROP\n",
       "4 1946-07-24     USA  11.35  165.20         21.0         21.0      WE       UW"
      ]
     },
     "execution_count": 21,
     "metadata": {},
     "output_type": "execute_result"
    }
   ],
   "source": [
    "## READ THIS \n",
    "# Run this cell without changing anything.\n",
    "\n",
    "# Change the df to the name of your dataframe. \n",
    "df[\"date\"] = pd.to_datetime(df[\"date\"], format = \"%Y%m%d\", errors='coerce')\n",
    "df.head(5)"
   ]
  },
  {
   "cell_type": "markdown",
   "metadata": {},
   "source": [
    "&#9989; **Question 3.5 (2 points)**: Use built-in Pandas functions to get a quick statistical summary of your data (e.g. the mean, standard deviation, min, max, etc) **divided by country .**"
   ]
  },
  {
   "cell_type": "code",
   "execution_count": 22,
   "metadata": {
    "question_id": "P2Q3",
    "tags": [
     "student_answer"
    ]
   },
   "outputs": [
    {
     "data": {
      "text/html": [
       "<div>\n",
       "<style scoped>\n",
       "    .dataframe tbody tr th:only-of-type {\n",
       "        vertical-align: middle;\n",
       "    }\n",
       "\n",
       "    .dataframe tbody tr th {\n",
       "        vertical-align: top;\n",
       "    }\n",
       "\n",
       "    .dataframe thead tr th {\n",
       "        text-align: left;\n",
       "    }\n",
       "\n",
       "    .dataframe thead tr:last-of-type th {\n",
       "        text-align: right;\n",
       "    }\n",
       "</style>\n",
       "<table border=\"1\" class=\"dataframe\">\n",
       "  <thead>\n",
       "    <tr>\n",
       "      <th></th>\n",
       "      <th colspan=\"8\" halign=\"left\">date</th>\n",
       "      <th colspan=\"2\" halign=\"left\">lat</th>\n",
       "      <th>...</th>\n",
       "      <th colspan=\"2\" halign=\"left\">yield_lower</th>\n",
       "      <th colspan=\"8\" halign=\"left\">yield_upper</th>\n",
       "    </tr>\n",
       "    <tr>\n",
       "      <th></th>\n",
       "      <th>count</th>\n",
       "      <th>mean</th>\n",
       "      <th>min</th>\n",
       "      <th>25%</th>\n",
       "      <th>50%</th>\n",
       "      <th>75%</th>\n",
       "      <th>max</th>\n",
       "      <th>std</th>\n",
       "      <th>count</th>\n",
       "      <th>mean</th>\n",
       "      <th>...</th>\n",
       "      <th>max</th>\n",
       "      <th>std</th>\n",
       "      <th>count</th>\n",
       "      <th>mean</th>\n",
       "      <th>min</th>\n",
       "      <th>25%</th>\n",
       "      <th>50%</th>\n",
       "      <th>75%</th>\n",
       "      <th>max</th>\n",
       "      <th>std</th>\n",
       "    </tr>\n",
       "    <tr>\n",
       "      <th>country</th>\n",
       "      <th></th>\n",
       "      <th></th>\n",
       "      <th></th>\n",
       "      <th></th>\n",
       "      <th></th>\n",
       "      <th></th>\n",
       "      <th></th>\n",
       "      <th></th>\n",
       "      <th></th>\n",
       "      <th></th>\n",
       "      <th></th>\n",
       "      <th></th>\n",
       "      <th></th>\n",
       "      <th></th>\n",
       "      <th></th>\n",
       "      <th></th>\n",
       "      <th></th>\n",
       "      <th></th>\n",
       "      <th></th>\n",
       "      <th></th>\n",
       "      <th></th>\n",
       "    </tr>\n",
       "  </thead>\n",
       "  <tbody>\n",
       "    <tr>\n",
       "      <th>CHINA</th>\n",
       "      <td>45</td>\n",
       "      <td>1979-11-16 00:32:00</td>\n",
       "      <td>1964-10-16 00:00:00</td>\n",
       "      <td>1971-11-18 00:00:00</td>\n",
       "      <td>1978-03-15 00:00:00</td>\n",
       "      <td>1988-09-29 00:00:00</td>\n",
       "      <td>1996-07-29 00:00:00</td>\n",
       "      <td>NaN</td>\n",
       "      <td>45.0</td>\n",
       "      <td>41.407689</td>\n",
       "      <td>...</td>\n",
       "      <td>3400.0</td>\n",
       "      <td>957.234444</td>\n",
       "      <td>43.0</td>\n",
       "      <td>602.930233</td>\n",
       "      <td>0.000</td>\n",
       "      <td>20.00</td>\n",
       "      <td>70.0</td>\n",
       "      <td>200.00</td>\n",
       "      <td>8000.0</td>\n",
       "      <td>1476.999861</td>\n",
       "    </tr>\n",
       "    <tr>\n",
       "      <th>FRANCE</th>\n",
       "      <td>210</td>\n",
       "      <td>1979-07-10 21:01:42.857142848</td>\n",
       "      <td>1960-02-13 00:00:00</td>\n",
       "      <td>1973-09-01 00:00:00</td>\n",
       "      <td>1980-05-10 12:00:00</td>\n",
       "      <td>1985-11-16 18:00:00</td>\n",
       "      <td>1996-01-27 00:00:00</td>\n",
       "      <td>NaN</td>\n",
       "      <td>210.0</td>\n",
       "      <td>-17.215486</td>\n",
       "      <td>...</td>\n",
       "      <td>1000.0</td>\n",
       "      <td>98.236397</td>\n",
       "      <td>208.0</td>\n",
       "      <td>103.413462</td>\n",
       "      <td>0.000</td>\n",
       "      <td>5.00</td>\n",
       "      <td>20.0</td>\n",
       "      <td>150.00</td>\n",
       "      <td>1000.0</td>\n",
       "      <td>212.826350</td>\n",
       "    </tr>\n",
       "    <tr>\n",
       "      <th>INDIA</th>\n",
       "      <td>3</td>\n",
       "      <td>1990-05-14 00:00:00</td>\n",
       "      <td>1974-05-18 00:00:00</td>\n",
       "      <td>1986-05-14 12:00:00</td>\n",
       "      <td>1998-05-11 00:00:00</td>\n",
       "      <td>1998-05-12 00:00:00</td>\n",
       "      <td>1998-05-13 00:00:00</td>\n",
       "      <td>NaN</td>\n",
       "      <td>3.0</td>\n",
       "      <td>27.013333</td>\n",
       "      <td>...</td>\n",
       "      <td>0.0</td>\n",
       "      <td>0.000000</td>\n",
       "      <td>3.0</td>\n",
       "      <td>13.666667</td>\n",
       "      <td>1.000</td>\n",
       "      <td>10.50</td>\n",
       "      <td>20.0</td>\n",
       "      <td>20.00</td>\n",
       "      <td>20.0</td>\n",
       "      <td>10.969655</td>\n",
       "    </tr>\n",
       "    <tr>\n",
       "      <th>PAKISTAN</th>\n",
       "      <td>2</td>\n",
       "      <td>1998-05-29 00:00:00</td>\n",
       "      <td>1998-05-28 00:00:00</td>\n",
       "      <td>1998-05-28 12:00:00</td>\n",
       "      <td>1998-05-29 00:00:00</td>\n",
       "      <td>1998-05-29 12:00:00</td>\n",
       "      <td>1998-05-30 00:00:00</td>\n",
       "      <td>NaN</td>\n",
       "      <td>2.0</td>\n",
       "      <td>28.695000</td>\n",
       "      <td>...</td>\n",
       "      <td>0.0</td>\n",
       "      <td>0.000000</td>\n",
       "      <td>2.0</td>\n",
       "      <td>26.500000</td>\n",
       "      <td>18.000</td>\n",
       "      <td>22.25</td>\n",
       "      <td>26.5</td>\n",
       "      <td>30.75</td>\n",
       "      <td>35.0</td>\n",
       "      <td>12.020815</td>\n",
       "    </tr>\n",
       "    <tr>\n",
       "      <th>UK</th>\n",
       "      <td>45</td>\n",
       "      <td>1968-10-19 14:56:00</td>\n",
       "      <td>1952-10-03 00:00:00</td>\n",
       "      <td>1957-06-19 00:00:00</td>\n",
       "      <td>1962-12-07 00:00:00</td>\n",
       "      <td>1980-12-17 00:00:00</td>\n",
       "      <td>1991-11-26 00:00:00</td>\n",
       "      <td>NaN</td>\n",
       "      <td>45.0</td>\n",
       "      <td>12.478356</td>\n",
       "      <td>...</td>\n",
       "      <td>3000.0</td>\n",
       "      <td>543.027090</td>\n",
       "      <td>45.0</td>\n",
       "      <td>240.177778</td>\n",
       "      <td>0.000</td>\n",
       "      <td>20.00</td>\n",
       "      <td>150.0</td>\n",
       "      <td>150.00</td>\n",
       "      <td>3000.0</td>\n",
       "      <td>529.986322</td>\n",
       "    </tr>\n",
       "    <tr>\n",
       "      <th>USA</th>\n",
       "      <td>1032</td>\n",
       "      <td>1969-02-28 02:18:08.372093024</td>\n",
       "      <td>1945-07-16 00:00:00</td>\n",
       "      <td>1962-06-21 18:00:00</td>\n",
       "      <td>1967-10-25 00:00:00</td>\n",
       "      <td>1975-06-20 18:00:00</td>\n",
       "      <td>1992-09-23 00:00:00</td>\n",
       "      <td>NaN</td>\n",
       "      <td>1032.0</td>\n",
       "      <td>33.928203</td>\n",
       "      <td>...</td>\n",
       "      <td>15000.0</td>\n",
       "      <td>1039.912334</td>\n",
       "      <td>1031.0</td>\n",
       "      <td>225.937476</td>\n",
       "      <td>0.000</td>\n",
       "      <td>20.00</td>\n",
       "      <td>20.0</td>\n",
       "      <td>150.00</td>\n",
       "      <td>15000.0</td>\n",
       "      <td>1093.912025</td>\n",
       "    </tr>\n",
       "    <tr>\n",
       "      <th>USSR</th>\n",
       "      <td>714</td>\n",
       "      <td>1971-11-27 19:11:35.798319328</td>\n",
       "      <td>1949-08-29 00:00:00</td>\n",
       "      <td>1962-10-10 18:00:00</td>\n",
       "      <td>1972-04-04 00:00:00</td>\n",
       "      <td>1979-10-22 12:00:00</td>\n",
       "      <td>1990-10-24 00:00:00</td>\n",
       "      <td>NaN</td>\n",
       "      <td>714.0</td>\n",
       "      <td>54.114804</td>\n",
       "      <td>...</td>\n",
       "      <td>50000.0</td>\n",
       "      <td>2463.064391</td>\n",
       "      <td>714.0</td>\n",
       "      <td>518.852004</td>\n",
       "      <td>0.001</td>\n",
       "      <td>8.50</td>\n",
       "      <td>20.0</td>\n",
       "      <td>150.00</td>\n",
       "      <td>50000.0</td>\n",
       "      <td>3186.714096</td>\n",
       "    </tr>\n",
       "  </tbody>\n",
       "</table>\n",
       "<p>7 rows × 40 columns</p>\n",
       "</div>"
      ],
      "text/plain": [
       "          date                                                      \\\n",
       "         count                           mean                  min   \n",
       "country                                                              \n",
       "CHINA       45            1979-11-16 00:32:00  1964-10-16 00:00:00   \n",
       "FRANCE     210  1979-07-10 21:01:42.857142848  1960-02-13 00:00:00   \n",
       "INDIA        3            1990-05-14 00:00:00  1974-05-18 00:00:00   \n",
       "PAKISTAN     2            1998-05-29 00:00:00  1998-05-28 00:00:00   \n",
       "UK          45            1968-10-19 14:56:00  1952-10-03 00:00:00   \n",
       "USA       1032  1969-02-28 02:18:08.372093024  1945-07-16 00:00:00   \n",
       "USSR       714  1971-11-27 19:11:35.798319328  1949-08-29 00:00:00   \n",
       "\n",
       "                                                                         \\\n",
       "                          25%                  50%                  75%   \n",
       "country                                                                   \n",
       "CHINA     1971-11-18 00:00:00  1978-03-15 00:00:00  1988-09-29 00:00:00   \n",
       "FRANCE    1973-09-01 00:00:00  1980-05-10 12:00:00  1985-11-16 18:00:00   \n",
       "INDIA     1986-05-14 12:00:00  1998-05-11 00:00:00  1998-05-12 00:00:00   \n",
       "PAKISTAN  1998-05-28 12:00:00  1998-05-29 00:00:00  1998-05-29 12:00:00   \n",
       "UK        1957-06-19 00:00:00  1962-12-07 00:00:00  1980-12-17 00:00:00   \n",
       "USA       1962-06-21 18:00:00  1967-10-25 00:00:00  1975-06-20 18:00:00   \n",
       "USSR      1962-10-10 18:00:00  1972-04-04 00:00:00  1979-10-22 12:00:00   \n",
       "\n",
       "                                       lat             ... yield_lower  \\\n",
       "                          max  std   count       mean  ...         max   \n",
       "country                                                ...               \n",
       "CHINA     1996-07-29 00:00:00  NaN    45.0  41.407689  ...      3400.0   \n",
       "FRANCE    1996-01-27 00:00:00  NaN   210.0 -17.215486  ...      1000.0   \n",
       "INDIA     1998-05-13 00:00:00  NaN     3.0  27.013333  ...         0.0   \n",
       "PAKISTAN  1998-05-30 00:00:00  NaN     2.0  28.695000  ...         0.0   \n",
       "UK        1991-11-26 00:00:00  NaN    45.0  12.478356  ...      3000.0   \n",
       "USA       1992-09-23 00:00:00  NaN  1032.0  33.928203  ...     15000.0   \n",
       "USSR      1990-10-24 00:00:00  NaN   714.0  54.114804  ...     50000.0   \n",
       "\n",
       "                      yield_upper                                            \\\n",
       "                  std       count        mean     min    25%    50%     75%   \n",
       "country                                                                       \n",
       "CHINA      957.234444        43.0  602.930233   0.000  20.00   70.0  200.00   \n",
       "FRANCE      98.236397       208.0  103.413462   0.000   5.00   20.0  150.00   \n",
       "INDIA        0.000000         3.0   13.666667   1.000  10.50   20.0   20.00   \n",
       "PAKISTAN     0.000000         2.0   26.500000  18.000  22.25   26.5   30.75   \n",
       "UK         543.027090        45.0  240.177778   0.000  20.00  150.0  150.00   \n",
       "USA       1039.912334      1031.0  225.937476   0.000  20.00   20.0  150.00   \n",
       "USSR      2463.064391       714.0  518.852004   0.001   8.50   20.0  150.00   \n",
       "\n",
       "                                \n",
       "              max          std  \n",
       "country                         \n",
       "CHINA      8000.0  1476.999861  \n",
       "FRANCE     1000.0   212.826350  \n",
       "INDIA        20.0    10.969655  \n",
       "PAKISTAN     35.0    12.020815  \n",
       "UK         3000.0   529.986322  \n",
       "USA       15000.0  1093.912025  \n",
       "USSR      50000.0  3186.714096  \n",
       "\n",
       "[7 rows x 40 columns]"
      ]
     },
     "execution_count": 22,
     "metadata": {},
     "output_type": "execute_result"
    }
   ],
   "source": [
    "# Put your code here\n",
    "df.groupby(\"country\").describe()"
   ]
  },
  {
   "cell_type": "markdown",
   "metadata": {},
   "source": [
    "&#9989; **Question 3.6 (2 points)**: Looking at the above output, answer the following questions: \n",
    "\n",
    "1. What countries have used nuclear weapons?\n",
    "2. How many weapons did the USA use?\n",
    "3. When did the USSR dropped its first nuclear bomb?\n",
    "4. When and which country dropped the last bomb?"
   ]
  },
  {
   "cell_type": "markdown",
   "metadata": {
    "question_id": "P2Q3",
    "tags": [
     "student_answer"
    ]
   },
   "source": [
    "1. China, France, India, Pakistan, UK, USA, USSR\n",
    "2. 1032\n",
    "3. August 29, 1949\n",
    "4. Pakistan"
   ]
  },
  {
   "cell_type": "markdown",
   "metadata": {},
   "source": [
    "&#9989; **Question 3.7 (7 points)**: Using `seaborn` make an histogram with stacked data ([_Hint_](https://seaborn.pydata.org/examples/index.html) ) : \n",
    "\n",
    "1. with the `date` as the `x` axis\n",
    "\n",
    "2. 45 bins\n",
    "\n",
    "3. color by country\n",
    "\n",
    "4. make the figure size equal to 10, 7\n",
    "\n",
    "5. set the `palette` option equal to `\"Dark2\"`. Or change it to your preference [Link to colors](https://matplotlib.org/stable/tutorials/colors/colormaps.html)"
   ]
  },
  {
   "cell_type": "code",
   "execution_count": 23,
   "metadata": {
    "question_id": "P2Q3",
    "tags": [
     "student_answer"
    ]
   },
   "outputs": [
    {
     "data": {
      "text/plain": [
       "(array([-10958.,  -7305.,  -3653.,      0.,   3652.,   7305.,  10957.,\n",
       "         14610.]),\n",
       " [Text(-10958.0, 0, '1940'),\n",
       "  Text(-7305.0, 0, '1950'),\n",
       "  Text(-3653.0, 0, '1960'),\n",
       "  Text(0.0, 0, '1970'),\n",
       "  Text(3652.0, 0, '1980'),\n",
       "  Text(7305.0, 0, '1990'),\n",
       "  Text(10957.0, 0, '2000'),\n",
       "  Text(14610.0, 0, '2010')])"
      ]
     },
     "execution_count": 23,
     "metadata": {},
     "output_type": "execute_result"
    },
    {
     "data": {
      "image/png": "[encoded data removed]",
      "text/plain": [
       "<Figure size 1000x700 with 1 Axes>"
      ]
     },
     "metadata": {},
     "output_type": "display_data"
    }
   ],
   "source": [
    "import matplotlib.pyplot as plt\n",
    "import seaborn as sns\n",
    "\n",
    "plt.figure(figsize=(10,7))\n",
    "\n",
    "sns.set_context(\"talk\")\n",
    "\n",
    "nucgraph = sns.histplot(data=df, x=\"date\", hue=\"country\", bins=45, palette = \"Dark2\", multiple=\"stack\")\n",
    "\n",
    "plt.xticks(rotation = 40) # This line rotates the ticks of the x-axis so that they are easy to read."
   ]
  },
  {
   "cell_type": "markdown",
   "metadata": {},
   "source": [
    "&#9989; **Question 3.8 (2 points)**: Looking at the above output, answer the following questions: \n",
    "\n",
    "1. What country used nuclear weapons in 1960?\n",
    "2. What countries are the last to use nuclear weapons?\n"
   ]
  },
  {
   "cell_type": "markdown",
   "metadata": {
    "question_id": "P2Q3",
    "tags": [
     "student_answer"
    ]
   },
   "source": [
    "1. Only France.\n",
    "2. India and Pakistan, both in 1998."
   ]
  },
  {
   "cell_type": "markdown",
   "metadata": {},
   "source": [
    "---\n",
    "### &#128721; STOP\n",
    "**Pause to commit your changes to your Git repository! (1 point)**\n",
    "\n",
    "Take a moment to save your notebook, commit the changes to your Git repository using the commit message \"**Committing Part 3**\", and push the changes to GitHub."
   ]
  },
  {
   "cell_type": "markdown",
   "metadata": {},
   "source": [
    "---\n",
    "<a id=\"part-4-object-oriented-programming-38-points\"></a>\n",
    "\n",
    "# Part 4: Object-Oriented Programming (38 points)\n",
    "\n",
    "[Back to Table of Contents](#Table-of-Contents)\n",
    "\n",
    "\n",
    "\n",
    "<img src=https://upload.wikimedia.org/wikipedia/commons/thumb/b/b5/Starting_position_in_a_chess_game.jpg/1024px-Starting_position_in_a_chess_game.jpg width=600px align=center >\n",
    "\n",
    "\n",
    "Let's set up a fictional chess! Here is a [link](https://chess-teacher.com/wp-content/uploads/2016/01/symbols-of-chess-pieces.jpg) explaining the meaning of each piece."
   ]
  },
  {
   "cell_type": "markdown",
   "metadata": {},
   "source": [
    "&#9989; **Question 4.1 (9 points)**: The following cell contains a draft of a class called `ChessPiece` with only the `__init__` constructor. Complete the `__init__` constructor so that it:\n",
    "\n",
    "- takes in three arguments, `color`, `shape`, with no default values. These arguments correspond to three attributes with the same name.\n",
    "\n",
    "- creates another attribute called `position`. This should be a `tuple` set to `('a', 0)`. _Note:_ `'a'` is a `str` while `0` is an `int`.\n",
    "\n",
    "- check whether `shape` is contained in the `list` `[\"bishop\", \"king\", \"knight\", \"pawn\", \"queen\", \"rook\"]`. If no `raise` a `ValueError` with the message `\"Piece does not exist.\"`.  [Hint](https://stackoverflow.com/questions/2052390/manually-raising-throwing-an-exception-in-python) \n"
   ]
  },
  {
   "cell_type": "code",
   "execution_count": 27,
   "metadata": {
    "question_id": "P3Q8",
    "tags": [
     "student_answer"
    ]
   },
   "outputs": [],
   "source": [
    "# Put your code here\n",
    "class ChessPiece:\n",
    "    \"\"\"Base class for chess pieces. \n",
    "    \n",
    "    Attributes\n",
    "    ----------\n",
    "    color : str\n",
    "        Color of the chess piece.\n",
    "    \n",
    "    shape : str\n",
    "        Shape of the chess piece. It can be only one of the following\n",
    "        [\"bishop\", \"king\", \"knight\", \"pawn\", \"queen\", \"rook\"]\n",
    "    \n",
    "    position : tuple\n",
    "        Position on the chess board.\n",
    "    \n",
    "    \"\"\"\n",
    "    def __init__(self, color, shape): \n",
    "        \"\"\"Initialize the chess piece with its attributes color and shape \n",
    "        and set the initial position to the lower left corner of the board.\n",
    "        \n",
    "        Input Parameter\n",
    "        ---------------\n",
    "        color : str\n",
    "            Color of the chess piece.\n",
    "    \n",
    "        shape : str\n",
    "            Shape of the chess piece. It can be only one of the following\n",
    "            [\"bishop\", \"king\", \"knight\", \"pawn\", \"queen\", \"rook\"]\n",
    "        \n",
    "        Raises\n",
    "        ------\n",
    "        ValueError\n",
    "            For when the shape is not one of the possible shapes.\"\"\"\n",
    "        self.color = color\n",
    "        self.shape = shape\n",
    "        self.position = ('a', 0)\n",
    "        if(not(self.shape == \"bishop\" or self.shape == \"king\" or self.shape == \"knight\" or self.shape == \"pawn\" or self.shape == \"queen\" or self.shape == \"rook\")):\n",
    "            raise ValueError(\"That shape is not one of the accepted chess pieces. Try one of the following: 'bishop', 'king', 'knight', 'pawn', 'queen', 'rook'\")\n"
   ]
  },
  {
   "cell_type": "markdown",
   "metadata": {},
   "source": [
    "## Test your code\n",
    "\n",
    "Let's that the code works. Run the following cells."
   ]
  },
  {
   "cell_type": "code",
   "execution_count": 40,
   "metadata": {
    "question_id": "P3Q8",
    "tags": [
     "student_answer"
    ]
   },
   "outputs": [
    {
     "data": {
      "text/plain": [
       "('a', 0)"
      ]
     },
     "execution_count": 40,
     "metadata": {},
     "output_type": "execute_result"
    }
   ],
   "source": [
    "#\n",
    "pawn = ChessPiece(color = \"white\", shape = \"pawn\")\n",
    "\n",
    "pawn.position"
   ]
  },
  {
   "cell_type": "markdown",
   "metadata": {},
   "source": [
    "&#9989; **Question 4.1.1 (1 point):** Is `pawn` starting in the correct position `('a',0)`? If Yes move to the next, otherwise fix your code."
   ]
  },
  {
   "cell_type": "code",
   "execution_count": 41,
   "metadata": {
    "question_id": "P3Q8",
    "tags": [
     "student_answer"
    ]
   },
   "outputs": [
    {
     "ename": "ValueError",
     "evalue": "That shape is not one of the accepted chess pieces. Try one of the following: 'bishop', 'king', 'knight', 'pawn', 'queen', 'rook'",
     "output_type": "error",
     "traceback": [
      "\u001b[0;31m---------------------------------------------------------------------------\u001b[0m",
      "\u001b[0;31mValueError\u001b[0m                                Traceback (most recent call last)",
      "Cell \u001b[0;32mIn[41], line 3\u001b[0m\n\u001b[1;32m      1\u001b[0m \u001b[38;5;66;03m# Let's try breaking the code\u001b[39;00m\n\u001b[0;32m----> 3\u001b[0m archer \u001b[38;5;241m=\u001b[39m \u001b[43mChessPiece\u001b[49m\u001b[43m(\u001b[49m\u001b[43mcolor\u001b[49m\u001b[43m \u001b[49m\u001b[38;5;241;43m=\u001b[39;49m\u001b[43m \u001b[49m\u001b[38;5;124;43m\"\u001b[39;49m\u001b[38;5;124;43mblack\u001b[39;49m\u001b[38;5;124;43m\"\u001b[39;49m\u001b[43m,\u001b[49m\u001b[43m \u001b[49m\u001b[43mshape\u001b[49m\u001b[43m \u001b[49m\u001b[38;5;241;43m=\u001b[39;49m\u001b[43m \u001b[49m\u001b[38;5;124;43m\"\u001b[39;49m\u001b[38;5;124;43marcher\u001b[39;49m\u001b[38;5;124;43m\"\u001b[39;49m\u001b[43m)\u001b[49m\n",
      "Cell \u001b[0;32mIn[27], line 39\u001b[0m, in \u001b[0;36mChessPiece.__init__\u001b[0;34m(self, color, shape)\u001b[0m\n\u001b[1;32m     37\u001b[0m \u001b[38;5;28mself\u001b[39m\u001b[38;5;241m.\u001b[39mposition \u001b[38;5;241m=\u001b[39m (\u001b[38;5;124m'\u001b[39m\u001b[38;5;124ma\u001b[39m\u001b[38;5;124m'\u001b[39m, \u001b[38;5;241m0\u001b[39m)\n\u001b[1;32m     38\u001b[0m \u001b[38;5;28;01mif\u001b[39;00m(\u001b[38;5;129;01mnot\u001b[39;00m(\u001b[38;5;28mself\u001b[39m\u001b[38;5;241m.\u001b[39mshape \u001b[38;5;241m==\u001b[39m \u001b[38;5;124m\"\u001b[39m\u001b[38;5;124mbishop\u001b[39m\u001b[38;5;124m\"\u001b[39m \u001b[38;5;129;01mor\u001b[39;00m \u001b[38;5;28mself\u001b[39m\u001b[38;5;241m.\u001b[39mshape \u001b[38;5;241m==\u001b[39m \u001b[38;5;124m\"\u001b[39m\u001b[38;5;124mking\u001b[39m\u001b[38;5;124m\"\u001b[39m \u001b[38;5;129;01mor\u001b[39;00m \u001b[38;5;28mself\u001b[39m\u001b[38;5;241m.\u001b[39mshape \u001b[38;5;241m==\u001b[39m \u001b[38;5;124m\"\u001b[39m\u001b[38;5;124mknight\u001b[39m\u001b[38;5;124m\"\u001b[39m \u001b[38;5;129;01mor\u001b[39;00m \u001b[38;5;28mself\u001b[39m\u001b[38;5;241m.\u001b[39mshape \u001b[38;5;241m==\u001b[39m \u001b[38;5;124m\"\u001b[39m\u001b[38;5;124mpawn\u001b[39m\u001b[38;5;124m\"\u001b[39m \u001b[38;5;129;01mor\u001b[39;00m \u001b[38;5;28mself\u001b[39m\u001b[38;5;241m.\u001b[39mshape \u001b[38;5;241m==\u001b[39m \u001b[38;5;124m\"\u001b[39m\u001b[38;5;124mqueen\u001b[39m\u001b[38;5;124m\"\u001b[39m \u001b[38;5;129;01mor\u001b[39;00m \u001b[38;5;28mself\u001b[39m\u001b[38;5;241m.\u001b[39mshape \u001b[38;5;241m==\u001b[39m \u001b[38;5;124m\"\u001b[39m\u001b[38;5;124mrook\u001b[39m\u001b[38;5;124m\"\u001b[39m)):\n\u001b[0;32m---> 39\u001b[0m     \u001b[38;5;28;01mraise\u001b[39;00m \u001b[38;5;167;01mValueError\u001b[39;00m(\u001b[38;5;124m\"\u001b[39m\u001b[38;5;124mThat shape is not one of the accepted chess pieces. Try one of the following: \u001b[39m\u001b[38;5;124m'\u001b[39m\u001b[38;5;124mbishop\u001b[39m\u001b[38;5;124m'\u001b[39m\u001b[38;5;124m, \u001b[39m\u001b[38;5;124m'\u001b[39m\u001b[38;5;124mking\u001b[39m\u001b[38;5;124m'\u001b[39m\u001b[38;5;124m, \u001b[39m\u001b[38;5;124m'\u001b[39m\u001b[38;5;124mknight\u001b[39m\u001b[38;5;124m'\u001b[39m\u001b[38;5;124m, \u001b[39m\u001b[38;5;124m'\u001b[39m\u001b[38;5;124mpawn\u001b[39m\u001b[38;5;124m'\u001b[39m\u001b[38;5;124m, \u001b[39m\u001b[38;5;124m'\u001b[39m\u001b[38;5;124mqueen\u001b[39m\u001b[38;5;124m'\u001b[39m\u001b[38;5;124m, \u001b[39m\u001b[38;5;124m'\u001b[39m\u001b[38;5;124mrook\u001b[39m\u001b[38;5;124m'\u001b[39m\u001b[38;5;124m\"\u001b[39m)\n",
      "\u001b[0;31mValueError\u001b[0m: That shape is not one of the accepted chess pieces. Try one of the following: 'bishop', 'king', 'knight', 'pawn', 'queen', 'rook'"
     ]
    }
   ],
   "source": [
    "# Let's try breaking the code\n",
    "\n",
    "archer = ChessPiece(color = \"black\", shape = \"archer\")"
   ]
  },
  {
   "cell_type": "markdown",
   "metadata": {},
   "source": [
    "&#9989; **Question 4.1.2 (1 point):** Did you get a `ValueError` with the correct message? If Yes move to the next, otherwise fix your code.\n",
    "\n"
   ]
  },
  {
   "cell_type": "markdown",
   "metadata": {},
   "source": [
    "---\n",
    "&#9989; **Question 4.2 (21 points)**: In the code cell below there is a draft of a class called `Queen`. Complete this class which **should inherit** the `ChessPiece` class. In addition, modify the methods such that:\n",
    "\n",
    "- the `__init__` constructor \n",
    "    * takes in one argument, `color`. \n",
    "    * set the `shape` attribute to `queen`\n",
    "    * initializes the `position` attribute to `('d',1)` if the `color` attribute is `'white'` otherwise it initializes it to `('d',8)` if the color attribute is `'black'`.\n",
    "    \n",
    "- the `move_to` method should:\n",
    "    * take in one argument `to_position`, with no default value. This will be the position in the chess board where the queen will move.\n",
    "    * check whether the `to_position` is an _instance_ of a `tuple` [Hint](<https://letmegooglethat.com/?q=How+do+I+check+if+an+object+is+an+instance+of+a+given+class+python>).:\n",
    "        * if no then it will raise a `TypeError` with the message `\"Please pass a tuple.\"` [Hint](https://stackoverflow.com/questions/2052390/manually-raising-throwing-an-exception-in-python).\n",
    "        \n",
    "        * if yes then it will check if `to_position` is an allowed value, _i.e._ check if the elements of the `tuple` exist on the chess board. If the desired position does not exist on the board then raise a `ValueError` with the message `\"Move not allowed.\"` Otherwise set the attribute `position` equal to `to_position`. _Note:_ the allowed x-coordinates are `\"a\"` through `\"h\"` and the allowed y-coordinates are `1` through `8`!.       \n",
    "        "
   ]
  },
  {
   "cell_type": "code",
   "execution_count": 45,
   "metadata": {
    "question_id": "P3Q8",
    "tags": [
     "student_answer"
    ]
   },
   "outputs": [],
   "source": [
    "# Put your code here\n",
    "class Queen(ChessPiece):\n",
    "    \"\"\"\n",
    "    Queen chess piece. Can move in any direction. It inherits the ChessPiece class.\n",
    "    \"\"\"\n",
    "    def __init__(self, color): \n",
    "        \"\"\"\n",
    "        Initialize the chess piece with its attributes color and shape \n",
    "        and set the initial position to the lower left corner of the board.\n",
    "        \n",
    "        Input Parameter\n",
    "        ---------------\n",
    "        color : str\n",
    "            Color of the chess piece.\n",
    "\n",
    "        \"\"\"\n",
    "        self.color = color\n",
    "        super().__init__(color = self.color, shape = \"queen\")\n",
    "        if(self.color == 'white'):\n",
    "            self.position = ('d', 1)\n",
    "        elif(self.color == 'black'):\n",
    "            self.position = ('d', 8)\n",
    "    \n",
    "    def move_to(self, to_position):\n",
    "        \"\"\"\n",
    "        Move the chess piece to the given position.\n",
    "        \n",
    "        Input parameter\n",
    "        ---------------\n",
    "        to_position: tuple\n",
    "            Chess board coordinates where to move the piece.\n",
    "        \n",
    "        Raises\n",
    "        ------\n",
    "        ValueError\n",
    "            For when the elements of the tuple are not part of the chess board.\n",
    "        \n",
    "        TypeError\n",
    "            For when the input argument is not of the required type.   \n",
    "        \"\"\"\n",
    "        if(not(isinstance(to_position, tuple))):\n",
    "            raise TypeError(\"Please pass a tuple.\")\n",
    "        if(not(to_position[0] == 'a' or to_position[0] == 'b' or to_position[0] == 'c' or to_position[0] == 'd' or to_position[0] == 'e' or to_position[0] == 'f' or to_position[0] == 'g' or to_position[0] == 'h')):\n",
    "            raise ValueError(\"Move not allowed.\")\n",
    "        if(not(int(to_position[1]) == to_position[1] and to_position[1] <= 8 and to_position[1] >= 0)):\n",
    "            raise ValueError(\"Move not allowed.\")\n",
    "        self.position = to_position"
   ]
  },
  {
   "cell_type": "markdown",
   "metadata": {},
   "source": [
    "## Test your code\n",
    "\n",
    "Let's check that the code works. Run the following cell."
   ]
  },
  {
   "cell_type": "code",
   "execution_count": 46,
   "metadata": {
    "question_id": "P3Q8",
    "tags": [
     "student_answer"
    ]
   },
   "outputs": [
    {
     "name": "stdout",
     "output_type": "stream",
     "text": [
      "('d', 8)\n",
      "('d', 1)\n"
     ]
    }
   ],
   "source": [
    "# Create two queens\n",
    "\n",
    "harmon = Queen(color = 'black')\n",
    "kasparov = Queen(color = \"white\")\n",
    "\n",
    "print(harmon.position)\n",
    "print(kasparov.position)\n"
   ]
  },
  {
   "cell_type": "markdown",
   "metadata": {},
   "source": [
    "&#9989; **Question 4.3.1 (2 points):** Are the queens starting in the correct positions? Look at the board above. If Yes move to the next, otherwise fix your code."
   ]
  },
  {
   "cell_type": "code",
   "execution_count": 47,
   "metadata": {
    "question_id": "P3Q1",
    "tags": [
     "student_answer"
    ]
   },
   "outputs": [
    {
     "name": "stdout",
     "output_type": "stream",
     "text": [
      "('e', 2)\n"
     ]
    }
   ],
   "source": [
    "# Let's try to move \n",
    "harmon.move_to((\"e\",2))\n",
    "\n",
    "print(harmon.position)"
   ]
  },
  {
   "cell_type": "markdown",
   "metadata": {},
   "source": [
    "&#9989; **Question 4.3.2 (1 point)** Has the queen moved to the correct position? If Yes move to the next, otherwise fix your code."
   ]
  },
  {
   "cell_type": "code",
   "execution_count": 48,
   "metadata": {
    "question_id": "P3Q2",
    "tags": [
     "student_answer"
    ]
   },
   "outputs": [
    {
     "ename": "TypeError",
     "evalue": "Please pass a tuple.",
     "output_type": "error",
     "traceback": [
      "\u001b[0;31m---------------------------------------------------------------------------\u001b[0m",
      "\u001b[0;31mTypeError\u001b[0m                                 Traceback (most recent call last)",
      "Cell \u001b[0;32mIn[48], line 3\u001b[0m\n\u001b[1;32m      1\u001b[0m \u001b[38;5;66;03m# Let's try and break the code\u001b[39;00m\n\u001b[0;32m----> 3\u001b[0m \u001b[43mkasparov\u001b[49m\u001b[38;5;241;43m.\u001b[39;49m\u001b[43mmove_to\u001b[49m\u001b[43m(\u001b[49m\u001b[43m \u001b[49m\u001b[38;5;124;43m\"\u001b[39;49m\u001b[38;5;124;43mupper left by two\u001b[39;49m\u001b[38;5;124;43m\"\u001b[39;49m\u001b[43m)\u001b[49m\n",
      "Cell \u001b[0;32mIn[45], line 42\u001b[0m, in \u001b[0;36mQueen.move_to\u001b[0;34m(self, to_position)\u001b[0m\n\u001b[1;32m     25\u001b[0m \u001b[38;5;250m\u001b[39m\u001b[38;5;124;03m\"\"\"\u001b[39;00m\n\u001b[1;32m     26\u001b[0m \u001b[38;5;124;03mMove the chess piece to the given position.\u001b[39;00m\n\u001b[1;32m     27\u001b[0m \u001b[38;5;124;03m\u001b[39;00m\n\u001b[0;32m   (...)\u001b[0m\n\u001b[1;32m     39\u001b[0m \u001b[38;5;124;03m    For when the input argument is not of the required type.   \u001b[39;00m\n\u001b[1;32m     40\u001b[0m \u001b[38;5;124;03m\"\"\"\u001b[39;00m\n\u001b[1;32m     41\u001b[0m \u001b[38;5;28;01mif\u001b[39;00m(\u001b[38;5;129;01mnot\u001b[39;00m(\u001b[38;5;28misinstance\u001b[39m(to_position, \u001b[38;5;28mtuple\u001b[39m))):\n\u001b[0;32m---> 42\u001b[0m     \u001b[38;5;28;01mraise\u001b[39;00m \u001b[38;5;167;01mTypeError\u001b[39;00m(\u001b[38;5;124m\"\u001b[39m\u001b[38;5;124mPlease pass a tuple.\u001b[39m\u001b[38;5;124m\"\u001b[39m)\n\u001b[1;32m     43\u001b[0m \u001b[38;5;28;01mif\u001b[39;00m(\u001b[38;5;129;01mnot\u001b[39;00m(to_position[\u001b[38;5;241m0\u001b[39m] \u001b[38;5;241m==\u001b[39m \u001b[38;5;124m'\u001b[39m\u001b[38;5;124ma\u001b[39m\u001b[38;5;124m'\u001b[39m \u001b[38;5;129;01mor\u001b[39;00m to_position[\u001b[38;5;241m0\u001b[39m] \u001b[38;5;241m==\u001b[39m \u001b[38;5;124m'\u001b[39m\u001b[38;5;124mb\u001b[39m\u001b[38;5;124m'\u001b[39m \u001b[38;5;129;01mor\u001b[39;00m to_position[\u001b[38;5;241m0\u001b[39m] \u001b[38;5;241m==\u001b[39m \u001b[38;5;124m'\u001b[39m\u001b[38;5;124mc\u001b[39m\u001b[38;5;124m'\u001b[39m \u001b[38;5;129;01mor\u001b[39;00m to_position[\u001b[38;5;241m0\u001b[39m] \u001b[38;5;241m==\u001b[39m \u001b[38;5;124m'\u001b[39m\u001b[38;5;124md\u001b[39m\u001b[38;5;124m'\u001b[39m \u001b[38;5;129;01mor\u001b[39;00m to_position[\u001b[38;5;241m0\u001b[39m] \u001b[38;5;241m==\u001b[39m \u001b[38;5;124m'\u001b[39m\u001b[38;5;124me\u001b[39m\u001b[38;5;124m'\u001b[39m \u001b[38;5;129;01mor\u001b[39;00m to_position[\u001b[38;5;241m0\u001b[39m] \u001b[38;5;241m==\u001b[39m \u001b[38;5;124m'\u001b[39m\u001b[38;5;124mf\u001b[39m\u001b[38;5;124m'\u001b[39m \u001b[38;5;129;01mor\u001b[39;00m to_position[\u001b[38;5;241m0\u001b[39m] \u001b[38;5;241m==\u001b[39m \u001b[38;5;124m'\u001b[39m\u001b[38;5;124mg\u001b[39m\u001b[38;5;124m'\u001b[39m \u001b[38;5;129;01mor\u001b[39;00m to_position[\u001b[38;5;241m0\u001b[39m] \u001b[38;5;241m==\u001b[39m \u001b[38;5;124m'\u001b[39m\u001b[38;5;124mh\u001b[39m\u001b[38;5;124m'\u001b[39m)):\n\u001b[1;32m     44\u001b[0m     \u001b[38;5;28;01mraise\u001b[39;00m \u001b[38;5;167;01mValueError\u001b[39;00m(\u001b[38;5;124m\"\u001b[39m\u001b[38;5;124mMove not allowed.\u001b[39m\u001b[38;5;124m\"\u001b[39m)\n",
      "\u001b[0;31mTypeError\u001b[0m: Please pass a tuple."
     ]
    }
   ],
   "source": [
    "# Let's try and break the code\n",
    "\n",
    "kasparov.move_to( \"upper left by two\")"
   ]
  },
  {
   "cell_type": "markdown",
   "metadata": {},
   "source": [
    "&#9989; **Question 4.3.3 (1 point)**. Did you get a `TypeError` with the correct message? If Yes move to the next, otherwise fix your code."
   ]
  },
  {
   "cell_type": "code",
   "execution_count": 49,
   "metadata": {
    "question_id": "P3Q3",
    "tags": [
     "student_answer"
    ]
   },
   "outputs": [
    {
     "ename": "ValueError",
     "evalue": "Move not allowed.",
     "output_type": "error",
     "traceback": [
      "\u001b[0;31m---------------------------------------------------------------------------\u001b[0m",
      "\u001b[0;31mValueError\u001b[0m                                Traceback (most recent call last)",
      "Cell \u001b[0;32mIn[49], line 3\u001b[0m\n\u001b[1;32m      1\u001b[0m \u001b[38;5;66;03m# Let's check the ValueError\u001b[39;00m\n\u001b[0;32m----> 3\u001b[0m \u001b[43mharmon\u001b[49m\u001b[38;5;241;43m.\u001b[39;49m\u001b[43mmove_to\u001b[49m\u001b[43m(\u001b[49m\u001b[43mto_position\u001b[49m\u001b[38;5;241;43m=\u001b[39;49m\u001b[43m(\u001b[49m\u001b[38;5;124;43m\"\u001b[39;49m\u001b[38;5;124;43ml\u001b[39;49m\u001b[38;5;124;43m\"\u001b[39;49m\u001b[43m,\u001b[49m\u001b[38;5;241;43m6\u001b[39;49m\u001b[43m)\u001b[49m\u001b[43m)\u001b[49m\n",
      "Cell \u001b[0;32mIn[45], line 44\u001b[0m, in \u001b[0;36mQueen.move_to\u001b[0;34m(self, to_position)\u001b[0m\n\u001b[1;32m     42\u001b[0m     \u001b[38;5;28;01mraise\u001b[39;00m \u001b[38;5;167;01mTypeError\u001b[39;00m(\u001b[38;5;124m\"\u001b[39m\u001b[38;5;124mPlease pass a tuple.\u001b[39m\u001b[38;5;124m\"\u001b[39m)\n\u001b[1;32m     43\u001b[0m \u001b[38;5;28;01mif\u001b[39;00m(\u001b[38;5;129;01mnot\u001b[39;00m(to_position[\u001b[38;5;241m0\u001b[39m] \u001b[38;5;241m==\u001b[39m \u001b[38;5;124m'\u001b[39m\u001b[38;5;124ma\u001b[39m\u001b[38;5;124m'\u001b[39m \u001b[38;5;129;01mor\u001b[39;00m to_position[\u001b[38;5;241m0\u001b[39m] \u001b[38;5;241m==\u001b[39m \u001b[38;5;124m'\u001b[39m\u001b[38;5;124mb\u001b[39m\u001b[38;5;124m'\u001b[39m \u001b[38;5;129;01mor\u001b[39;00m to_position[\u001b[38;5;241m0\u001b[39m] \u001b[38;5;241m==\u001b[39m \u001b[38;5;124m'\u001b[39m\u001b[38;5;124mc\u001b[39m\u001b[38;5;124m'\u001b[39m \u001b[38;5;129;01mor\u001b[39;00m to_position[\u001b[38;5;241m0\u001b[39m] \u001b[38;5;241m==\u001b[39m \u001b[38;5;124m'\u001b[39m\u001b[38;5;124md\u001b[39m\u001b[38;5;124m'\u001b[39m \u001b[38;5;129;01mor\u001b[39;00m to_position[\u001b[38;5;241m0\u001b[39m] \u001b[38;5;241m==\u001b[39m \u001b[38;5;124m'\u001b[39m\u001b[38;5;124me\u001b[39m\u001b[38;5;124m'\u001b[39m \u001b[38;5;129;01mor\u001b[39;00m to_position[\u001b[38;5;241m0\u001b[39m] \u001b[38;5;241m==\u001b[39m \u001b[38;5;124m'\u001b[39m\u001b[38;5;124mf\u001b[39m\u001b[38;5;124m'\u001b[39m \u001b[38;5;129;01mor\u001b[39;00m to_position[\u001b[38;5;241m0\u001b[39m] \u001b[38;5;241m==\u001b[39m \u001b[38;5;124m'\u001b[39m\u001b[38;5;124mg\u001b[39m\u001b[38;5;124m'\u001b[39m \u001b[38;5;129;01mor\u001b[39;00m to_position[\u001b[38;5;241m0\u001b[39m] \u001b[38;5;241m==\u001b[39m \u001b[38;5;124m'\u001b[39m\u001b[38;5;124mh\u001b[39m\u001b[38;5;124m'\u001b[39m)):\n\u001b[0;32m---> 44\u001b[0m     \u001b[38;5;28;01mraise\u001b[39;00m \u001b[38;5;167;01mValueError\u001b[39;00m(\u001b[38;5;124m\"\u001b[39m\u001b[38;5;124mMove not allowed.\u001b[39m\u001b[38;5;124m\"\u001b[39m)\n\u001b[1;32m     45\u001b[0m \u001b[38;5;28;01mif\u001b[39;00m(\u001b[38;5;129;01mnot\u001b[39;00m(\u001b[38;5;28mint\u001b[39m(to_position[\u001b[38;5;241m1\u001b[39m]) \u001b[38;5;241m==\u001b[39m to_position[\u001b[38;5;241m1\u001b[39m] \u001b[38;5;129;01mand\u001b[39;00m to_position[\u001b[38;5;241m1\u001b[39m] \u001b[38;5;241m<\u001b[39m\u001b[38;5;241m=\u001b[39m \u001b[38;5;241m8\u001b[39m \u001b[38;5;129;01mand\u001b[39;00m to_position[\u001b[38;5;241m1\u001b[39m] \u001b[38;5;241m>\u001b[39m\u001b[38;5;241m=\u001b[39m \u001b[38;5;241m0\u001b[39m)):\n\u001b[1;32m     46\u001b[0m     \u001b[38;5;28;01mraise\u001b[39;00m \u001b[38;5;167;01mValueError\u001b[39;00m(\u001b[38;5;124m\"\u001b[39m\u001b[38;5;124mMove not allowed.\u001b[39m\u001b[38;5;124m\"\u001b[39m)\n",
      "\u001b[0;31mValueError\u001b[0m: Move not allowed."
     ]
    }
   ],
   "source": [
    "# Let's check the ValueError\n",
    "\n",
    "harmon.move_to(to_position=(\"l\",6))"
   ]
  },
  {
   "cell_type": "markdown",
   "metadata": {},
   "source": [
    "&#9989; **Question 4.3.4 (1 point)**. Did you get a `ValueError` with the correct message? If Yes move to the next, otherwise fix your code."
   ]
  },
  {
   "cell_type": "markdown",
   "metadata": {},
   "source": [
    "---\n",
    "### &#128721; STOP\n",
    "**Pause to commit your changes to your Git repository! (1 point)**\n",
    "\n",
    "Take a moment to save your notebook, commit the changes to your Git repository using the commit message \"**Committing Part 4**\", and push the changes to GitHub.\n",
    "\n",
    "---"
   ]
  },
  {
   "cell_type": "markdown",
   "metadata": {},
   "source": [
    "---\n",
    "<a id=\"part-5-conclusion-3-points\"></a>\n",
    "\n",
    "# Part 5. Conclusion (3 points)\n",
    "\n",
    "[Back to Table of Contents](#Table-of-Contents)\n",
    "\n",
    "Make sure all of your changes to your repository are committed and pushed to GitHub. \n",
    "Before you leave\n",
    "\n",
    "1. Commit changes to your **local** `git` repository (1 point)\n",
    "\n",
    "2. Push the changes to your GitHub repository (1 point)\n",
    "\n",
    "3. Upload your notebook to D2L in case something went wrong with your repository or if you couldn't get the repository to work.  (1 point)"
   ]
  },
  {
   "cell_type": "markdown",
   "metadata": {},
   "source": [
    "## You're done! Congrats on finishing your CMSE 202 Midterm!\n",
    "\n",
    "![Moira2](https://media.giphy.com/media/d1E2HnwywoTkES08/giphy.gif)"
   ]
  },
  {
   "cell_type": "markdown",
   "metadata": {},
   "source": [
    "&#169; Copyright 2025,  Department of Computational Mathematics, Science and Engineering at Michigan State University"
   ]
  }
 ],
 "metadata": {
  "kernelspec": {
   "display_name": "Python 3.11 (default)",
   "language": "python",
   "name": "python3"
  },
  "language_info": {
   "codemirror_mode": {
    "name": "ipython",
    "version": 3
   },
   "file_extension": ".py",
   "mimetype": "text/x-python",
   "name": "python",
   "nbconvert_exporter": "python",
   "pygments_lexer": "ipython3",
   "version": "3.11.11"
  },
  "widgets": {
   "application/vnd.jupyter.widget-state+json": {
    "state": {},
    "version_major": 2,
    "version_minor": 0
   }
  }
 },
 "nbformat": 4,
 "nbformat_minor": 4
}
